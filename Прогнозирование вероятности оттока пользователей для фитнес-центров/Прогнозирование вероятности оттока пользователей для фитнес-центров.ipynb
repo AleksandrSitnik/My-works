{
 "cells": [
  {
   "cell_type": "markdown",
   "metadata": {
    "toc": true
   },
   "source": [
    "<h1>Table of Contents<span class=\"tocSkip\"></span></h1>\n",
    "<div class=\"toc\"><ul class=\"toc-item\"><li><span><a href=\"#Описание-проекта\" data-toc-modified-id=\"Описание-проекта-1\"><span class=\"toc-item-num\">1&nbsp;&nbsp;</span>Описание проекта</a></span><ul class=\"toc-item\"><li><span><a href=\"#Задача\" data-toc-modified-id=\"Задача-1.1\"><span class=\"toc-item-num\">1.1&nbsp;&nbsp;</span>Задача</a></span></li></ul></li><li><span><a href=\"#Шаг-0.-Импорт-библиотек\" data-toc-modified-id=\"Шаг-0.-Импорт-библиотек-2\"><span class=\"toc-item-num\">2&nbsp;&nbsp;</span>Шаг 0. Импорт библиотек</a></span></li><li><span><a href=\"#Шаг-1.-Загрука-данных\" data-toc-modified-id=\"Шаг-1.-Загрука-данных-3\"><span class=\"toc-item-num\">3&nbsp;&nbsp;</span>Шаг 1. Загрука данных</a></span></li><li><span><a href=\"#Шаг-2.-Исследовательский-анализ-данных-(EDA)\" data-toc-modified-id=\"Шаг-2.-Исследовательский-анализ-данных-(EDA)-4\"><span class=\"toc-item-num\">4&nbsp;&nbsp;</span>Шаг 2. Исследовательский анализ данных (EDA)</a></span><ul class=\"toc-item\"><li><span><a href=\"#Начальный-анализ-(пропуски,-дубликаты)\" data-toc-modified-id=\"Начальный-анализ-(пропуски,-дубликаты)-4.1\"><span class=\"toc-item-num\">4.1&nbsp;&nbsp;</span>Начальный анализ (пропуски, дубликаты)</a></span></li><li><span><a href=\"#Изучение-средних-значений-и-стандартных-отклонений\" data-toc-modified-id=\"Изучение-средних-значений-и-стандартных-отклонений-4.2\"><span class=\"toc-item-num\">4.2&nbsp;&nbsp;</span>Изучение средних значений и стандартных отклонений</a></span></li><li><span><a href=\"#Посмотрим-на-средние-значения-признаков-в-двух-группах-—-тех,-кто-ушел-в-отток-и-тех,-кто-остался\" data-toc-modified-id=\"Посмотрим-на-средние-значения-признаков-в-двух-группах-—-тех,-кто-ушел-в-отток-и-тех,-кто-остался-4.3\"><span class=\"toc-item-num\">4.3&nbsp;&nbsp;</span>Посмотрим на средние значения признаков в двух группах — тех, кто ушел в отток и тех, кто остался</a></span></li><li><span><a href=\"#Построим-столбчатые-гистограммы-и-распределения-признаков-для-тех,-кто-ушёл-(отток)-и-тех,-кто-остался-(не-попали-в-отток)\" data-toc-modified-id=\"Построим-столбчатые-гистограммы-и-распределения-признаков-для-тех,-кто-ушёл-(отток)-и-тех,-кто-остался-(не-попали-в-отток)-4.4\"><span class=\"toc-item-num\">4.4&nbsp;&nbsp;</span>Построим столбчатые гистограммы и распределения признаков для тех, кто ушёл (отток) и тех, кто остался (не попали в отток)</a></span></li></ul></li><li><span><a href=\"#Шаг-3.-Модель-прогнозирования-оттока-клиентов\" data-toc-modified-id=\"Шаг-3.-Модель-прогнозирования-оттока-клиентов-5\"><span class=\"toc-item-num\">5&nbsp;&nbsp;</span>Шаг 3. Модель прогнозирования оттока клиентов</a></span><ul class=\"toc-item\"><li><span><a href=\"#Разобъем-данные-на-целевые-переменные-и-признаки,-на-обучающую-и-валидационную-выборку\" data-toc-modified-id=\"Разобъем-данные-на-целевые-переменные-и-признаки,-на-обучающую-и-валидационную-выборку-5.1\"><span class=\"toc-item-num\">5.1&nbsp;&nbsp;</span>Разобъем данные на целевые переменные и признаки, на обучающую и валидационную выборку</a></span></li><li><span><a href=\"#Обучим-модель-двумя-способами:-логистической-регрессией,-случайным-лесом.\" data-toc-modified-id=\"Обучим-модель-двумя-способами:-логистической-регрессией,-случайным-лесом.-5.2\"><span class=\"toc-item-num\">5.2&nbsp;&nbsp;</span>Обучим модель двумя способами: логистической регрессией, случайным лесом.</a></span><ul class=\"toc-item\"><li><span><a href=\"#логистическая-регрессия\" data-toc-modified-id=\"логистическая-регрессия-5.2.1\"><span class=\"toc-item-num\">5.2.1&nbsp;&nbsp;</span>логистическая регрессия</a></span></li><li><span><a href=\"#Случайный-лес\" data-toc-modified-id=\"Случайный-лес-5.2.2\"><span class=\"toc-item-num\">5.2.2&nbsp;&nbsp;</span>Случайный лес</a></span></li></ul></li><li><span><a href=\"#В-качестве-факультатива-попробуем-Доп-модели-и-методы\" data-toc-modified-id=\"В-качестве-факультатива-попробуем-Доп-модели-и-методы-5.3\"><span class=\"toc-item-num\">5.3&nbsp;&nbsp;</span>В качестве факультатива попробуем Доп модели и методы</a></span><ul class=\"toc-item\"><li><span><a href=\"#Метод-K-Nearest-Neighbors-(K-ближайших-соседей)\" data-toc-modified-id=\"Метод-K-Nearest-Neighbors-(K-ближайших-соседей)-5.3.1\"><span class=\"toc-item-num\">5.3.1&nbsp;&nbsp;</span>Метод K-Nearest Neighbors (K ближайших соседей)</a></span></li><li><span><a href=\"#Наивный-байесовский-классификатор-(GaussianNB)\" data-toc-modified-id=\"Наивный-байесовский-классификатор-(GaussianNB)-5.3.2\"><span class=\"toc-item-num\">5.3.2&nbsp;&nbsp;</span>Наивный байесовский классификатор (GaussianNB)</a></span></li><li><span><a href=\"#Деревья-решений-(DecisionTreeClassifier)\" data-toc-modified-id=\"Деревья-решений-(DecisionTreeClassifier)-5.3.3\"><span class=\"toc-item-num\">5.3.3&nbsp;&nbsp;</span>Деревья решений (DecisionTreeClassifier)</a></span></li><li><span><a href=\"#GridSearch-(делается-долго)\" data-toc-modified-id=\"GridSearch-(делается-долго)-5.3.4\"><span class=\"toc-item-num\">5.3.4&nbsp;&nbsp;</span>GridSearch (делается долго)</a></span></li><li><span><a href=\"#Boosting-((делается-очень-долго,-запeскать-на-свой-страх-и-риск-))-)\" data-toc-modified-id=\"Boosting-((делается-очень-долго,-запeскать-на-свой-страх-и-риск-))-)-5.3.5\"><span class=\"toc-item-num\">5.3.5&nbsp;&nbsp;</span>Boosting ((делается очень долго, запeскать на свой страх и риск )) )</a></span></li></ul></li></ul></li><li><span><a href=\"#Кластеризация-клиентов\" data-toc-modified-id=\"Кластеризация-клиентов-6\"><span class=\"toc-item-num\">6&nbsp;&nbsp;</span>Кластеризация клиентов</a></span><ul class=\"toc-item\"><li><span><a href=\"#Стандартизируем-данные\" data-toc-modified-id=\"Стандартизируем-данные-6.1\"><span class=\"toc-item-num\">6.1&nbsp;&nbsp;</span>Стандартизируем данные</a></span></li><li><span><a href=\"#Построим-матрицу-расстояний-функцией-linkage()-на-стандартизованной-матрице-признаков-и-нарисуем-дендрограмму.\" data-toc-modified-id=\"Построим-матрицу-расстояний-функцией-linkage()-на-стандартизованной-матрице-признаков-и-нарисуем-дендрограмму.-6.2\"><span class=\"toc-item-num\">6.2&nbsp;&nbsp;</span>Построим матрицу расстояний функцией linkage() на стандартизованной матрице признаков и нарисуем дендрограмму.</a></span></li><li><span><a href=\"#Обучим-модель-кластеризации-на-основании-алгоритма-K-Means-и-спрогнозируем-кластеры-клиентов\" data-toc-modified-id=\"Обучим-модель-кластеризации-на-основании-алгоритма-K-Means-и-спрогнозируем-кластеры-клиентов-6.3\"><span class=\"toc-item-num\">6.3&nbsp;&nbsp;</span>Обучим модель кластеризации на основании алгоритма K-Means и спрогнозируем кластеры клиентов</a></span></li><li><span><a href=\"#Посмотрим-на-средние-значения-признаков-для-кластеров.\" data-toc-modified-id=\"Посмотрим-на-средние-значения-признаков-для-кластеров.-6.4\"><span class=\"toc-item-num\">6.4&nbsp;&nbsp;</span>Посмотрим на средние значения признаков для кластеров.</a></span></li><li><span><a href=\"#Построим-распределения-признаков-для-кластеров\" data-toc-modified-id=\"Построим-распределения-признаков-для-кластеров-6.5\"><span class=\"toc-item-num\">6.5&nbsp;&nbsp;</span>Построим распределения признаков для кластеров</a></span></li><li><span><a href=\"#Для-каждого-полученного-кластера-посчитем-долю-оттока.-Выделим-надежные-и-ненадежные-кластеры.\" data-toc-modified-id=\"Для-каждого-полученного-кластера-посчитем-долю-оттока.-Выделим-надежные-и-ненадежные-кластеры.-6.6\"><span class=\"toc-item-num\">6.6&nbsp;&nbsp;</span>Для каждого полученного кластера посчитем долю оттока. Выделим надежные и ненадежные кластеры.</a></span></li></ul></li><li><span><a href=\"#Общий-вывод-по-исследованию\" data-toc-modified-id=\"Общий-вывод-по-исследованию-7\"><span class=\"toc-item-num\">7&nbsp;&nbsp;</span>Общий вывод по исследованию</a></span></li></ul></div>"
   ]
  },
  {
   "cell_type": "markdown",
   "metadata": {},
   "source": [
    "# Описание проекта"
   ]
  },
  {
   "cell_type": "markdown",
   "metadata": {},
   "source": [
    "## Задача"
   ]
  },
  {
   "cell_type": "markdown",
   "metadata": {},
   "source": [
    "Сеть фитнес-центров «Культурист-датасаентист» разрабатывает стратегию взаимодействия с клиентами на основе аналитических данных.\n",
    "Распространённая проблема фитнес-клубов и других сервисов — отток клиентов. Как понять, что клиент больше не с вами? Можно записать в отток тех, кто попросил закрыть договор или удалил аккаунт. Однако клиенты не всегда уходят демонстративно: чаще перестают пользоваться сервисом тихо.\n",
    "Индикаторы оттока зависят от специфики отрасли. Когда пользователь редко, но стабильно закупается в интернет-магазине — не похоже, что он «отвалился». А вот если две недели не заходит на канал с ежедневно обновляемым контентом, дела плохи: подписчик заскучал и, кажется, оставил вас.\n",
    "Для фитнес-центра можно считать, что клиент попал в отток, если за последний месяц ни разу не посетил спортзал. Конечно, не исключено, что он уехал на Бали и по приезде обязательно продолжит ходить на фитнес. Однако чаще бывает наоборот. Если клиент начал новую жизнь с понедельника, немного походил в спортзал, а потом пропал — скорее всего, он не вернётся.\n",
    "Чтобы бороться с оттоком, отдел по работе с клиентами «Культуриста-датасаентиста» перевёл в электронный вид множество клиентских анкет. Ваша задача — провести анализ и подготовить план действий по удержанию клиентов.\n",
    "А именно:\n",
    "научиться прогнозировать вероятность оттока (на уровне следующего месяца) для каждого клиента;\n",
    "сформировать типичные портреты клиентов: выделить несколько наиболее ярких групп и охарактеризовать их основные свойства;\n",
    "проанализировать основные признаки, наиболее сильно влияющие на отток;\n",
    "сформулировать основные выводы и разработать рекомендации по повышению качества работы с клиентами:\n",
    "- выделить целевые группы клиентов;\n",
    "- предложить меры по снижению оттока;\n",
    "- определить другие особенности взаимодействия с клиентами."
   ]
  },
  {
   "cell_type": "markdown",
   "metadata": {},
   "source": [
    "«Культурист-датасаентист» предоставил сведения в csv-файлах. Заказчик подготовил данные, которые содержат данные на месяц до оттока и факт оттока на определённый месяц. Набор данных включает следующие поля:\n",
    "Данные клиента за предыдущий до проверки факта оттока месяц:\n",
    "- **'gender'** — пол;\n",
    "- **'Near_Location'** — проживание или работа в районе, где находится фитнес-центр;\n",
    "- **'Partner'** — сотрудник компании-партнёра клуба (сотрудничество с компаниями, чьи сотрудники могут получать скидки на абонемент — в таком случае фитнес-центр хранит информацию о работодателе клиента);\n",
    "- **Promo_friends** — факт первоначальной записи в рамках акции «приведи друга» (использовал промо-код от знакомого при оплате первого абонемента);\n",
    "- **'Phone'** — наличие контактного телефона;\n",
    "- **'Age'** — возраст;\n",
    "- **'Lifetime'** — время с момента первого обращения в фитнес-центр (в месяцах).\n",
    "\n",
    "\n",
    "Информация на основе журнала посещений, покупок и информация о текущем статусе абонемента клиента:\n",
    "- **'Contract_period'** — длительность текущего действующего абонемента (месяц, 6 месяцев, год);\n",
    "- **'Month_to_end_contract'** — срок до окончания текущего действующего абонемента (в месяцах);\n",
    "- **'Group_visits'** — факт посещения групповых занятий;\n",
    "- **'Avg_class_frequency_total'** — средняя частота посещений в неделю за все время с начала действия абонемента;\n",
    "- **'Avg_class_frequency_current_month'** — средняя частота посещений в неделю за предыдущий месяц;\n",
    "- **'Avg_additional_charges_total'** — суммарная выручка от других услуг фитнес-центра: кафе, спорттовары, косметический и массажный салон.\n",
    "- **'Churn'** — факт оттока в текущем месяце."
   ]
  },
  {
   "cell_type": "markdown",
   "metadata": {},
   "source": [
    "# Шаг 0. Импорт библиотек"
   ]
  },
  {
   "cell_type": "code",
   "execution_count": 65,
   "metadata": {},
   "outputs": [],
   "source": [
    "import pandas as pd\n",
    "import seaborn as sns\n",
    "import numpy as np\n",
    "import plotly.express as px\n",
    "\n",
    "from sklearn.preprocessing import StandardScaler\n",
    "from sklearn.model_selection import train_test_split\n",
    "from sklearn.linear_model import LogisticRegression\n",
    "from sklearn.linear_model import Lasso, Ridge\n",
    "from sklearn.tree import DecisionTreeRegressor\n",
    "from sklearn.ensemble import RandomForestRegressor, GradientBoostingRegressor\n",
    "from sklearn.ensemble import RandomForestClassifier\n",
    "from sklearn.metrics import accuracy_score, roc_auc_score, roc_curve\n",
    "from sklearn.ensemble import GradientBoostingClassifier\n",
    "from scipy.cluster.hierarchy import dendrogram, linkage\n",
    "\n",
    "from sklearn.model_selection import (GridSearchCV,train_test_split, StratifiedKFold, cross_val_predict)\n",
    "from sklearn.neighbors import KNeighborsClassifier\n",
    "from sklearn.naive_bayes import GaussianNB\n",
    "from sklearn.tree import DecisionTreeClassifier\n",
    "from sklearn.cluster import KMeans\n",
    "\n",
    "import matplotlib.pyplot as plt\n",
    "from sklearn.metrics import mean_absolute_error, mean_squared_error, r2_score\n",
    "from sklearn.metrics import accuracy_score, precision_score, recall_score, f1_score\n",
    "import warnings\n",
    "warnings.simplefilter('ignore')"
   ]
  },
  {
   "cell_type": "markdown",
   "metadata": {},
   "source": [
    "# Шаг 1. Загрука данных"
   ]
  },
  {
   "cell_type": "code",
   "execution_count": 2,
   "metadata": {},
   "outputs": [
    {
     "data": {
      "text/html": [
       "<div>\n",
       "<style scoped>\n",
       "    .dataframe tbody tr th:only-of-type {\n",
       "        vertical-align: middle;\n",
       "    }\n",
       "\n",
       "    .dataframe tbody tr th {\n",
       "        vertical-align: top;\n",
       "    }\n",
       "\n",
       "    .dataframe thead th {\n",
       "        text-align: right;\n",
       "    }\n",
       "</style>\n",
       "<table border=\"1\" class=\"dataframe\">\n",
       "  <thead>\n",
       "    <tr style=\"text-align: right;\">\n",
       "      <th></th>\n",
       "      <th>gender</th>\n",
       "      <th>Near_Location</th>\n",
       "      <th>Partner</th>\n",
       "      <th>Promo_friends</th>\n",
       "      <th>Phone</th>\n",
       "      <th>Contract_period</th>\n",
       "      <th>Group_visits</th>\n",
       "      <th>Age</th>\n",
       "      <th>Avg_additional_charges_total</th>\n",
       "      <th>Month_to_end_contract</th>\n",
       "      <th>Lifetime</th>\n",
       "      <th>Avg_class_frequency_total</th>\n",
       "      <th>Avg_class_frequency_current_month</th>\n",
       "      <th>Churn</th>\n",
       "    </tr>\n",
       "  </thead>\n",
       "  <tbody>\n",
       "    <tr>\n",
       "      <th>0</th>\n",
       "      <td>1</td>\n",
       "      <td>1</td>\n",
       "      <td>1</td>\n",
       "      <td>1</td>\n",
       "      <td>0</td>\n",
       "      <td>6</td>\n",
       "      <td>1</td>\n",
       "      <td>29</td>\n",
       "      <td>14.227470</td>\n",
       "      <td>5.0</td>\n",
       "      <td>3</td>\n",
       "      <td>0.020398</td>\n",
       "      <td>0.000000</td>\n",
       "      <td>0</td>\n",
       "    </tr>\n",
       "    <tr>\n",
       "      <th>1</th>\n",
       "      <td>0</td>\n",
       "      <td>1</td>\n",
       "      <td>0</td>\n",
       "      <td>0</td>\n",
       "      <td>1</td>\n",
       "      <td>12</td>\n",
       "      <td>1</td>\n",
       "      <td>31</td>\n",
       "      <td>113.202938</td>\n",
       "      <td>12.0</td>\n",
       "      <td>7</td>\n",
       "      <td>1.922936</td>\n",
       "      <td>1.910244</td>\n",
       "      <td>0</td>\n",
       "    </tr>\n",
       "    <tr>\n",
       "      <th>2</th>\n",
       "      <td>0</td>\n",
       "      <td>1</td>\n",
       "      <td>1</td>\n",
       "      <td>0</td>\n",
       "      <td>1</td>\n",
       "      <td>1</td>\n",
       "      <td>0</td>\n",
       "      <td>28</td>\n",
       "      <td>129.448479</td>\n",
       "      <td>1.0</td>\n",
       "      <td>2</td>\n",
       "      <td>1.859098</td>\n",
       "      <td>1.736502</td>\n",
       "      <td>0</td>\n",
       "    </tr>\n",
       "    <tr>\n",
       "      <th>3</th>\n",
       "      <td>0</td>\n",
       "      <td>1</td>\n",
       "      <td>1</td>\n",
       "      <td>1</td>\n",
       "      <td>1</td>\n",
       "      <td>12</td>\n",
       "      <td>1</td>\n",
       "      <td>33</td>\n",
       "      <td>62.669863</td>\n",
       "      <td>12.0</td>\n",
       "      <td>2</td>\n",
       "      <td>3.205633</td>\n",
       "      <td>3.357215</td>\n",
       "      <td>0</td>\n",
       "    </tr>\n",
       "    <tr>\n",
       "      <th>4</th>\n",
       "      <td>1</td>\n",
       "      <td>1</td>\n",
       "      <td>1</td>\n",
       "      <td>1</td>\n",
       "      <td>1</td>\n",
       "      <td>1</td>\n",
       "      <td>0</td>\n",
       "      <td>26</td>\n",
       "      <td>198.362265</td>\n",
       "      <td>1.0</td>\n",
       "      <td>3</td>\n",
       "      <td>1.113884</td>\n",
       "      <td>1.120078</td>\n",
       "      <td>0</td>\n",
       "    </tr>\n",
       "  </tbody>\n",
       "</table>\n",
       "</div>"
      ],
      "text/plain": [
       "   gender  Near_Location  Partner  Promo_friends  Phone  Contract_period  \\\n",
       "0       1              1        1              1      0                6   \n",
       "1       0              1        0              0      1               12   \n",
       "2       0              1        1              0      1                1   \n",
       "3       0              1        1              1      1               12   \n",
       "4       1              1        1              1      1                1   \n",
       "\n",
       "   Group_visits  Age  Avg_additional_charges_total  Month_to_end_contract  \\\n",
       "0             1   29                     14.227470                    5.0   \n",
       "1             1   31                    113.202938                   12.0   \n",
       "2             0   28                    129.448479                    1.0   \n",
       "3             1   33                     62.669863                   12.0   \n",
       "4             0   26                    198.362265                    1.0   \n",
       "\n",
       "   Lifetime  Avg_class_frequency_total  Avg_class_frequency_current_month  \\\n",
       "0         3                   0.020398                           0.000000   \n",
       "1         7                   1.922936                           1.910244   \n",
       "2         2                   1.859098                           1.736502   \n",
       "3         2                   3.205633                           3.357215   \n",
       "4         3                   1.113884                           1.120078   \n",
       "\n",
       "   Churn  \n",
       "0      0  \n",
       "1      0  \n",
       "2      0  \n",
       "3      0  \n",
       "4      0  "
      ]
     },
     "execution_count": 2,
     "metadata": {},
     "output_type": "execute_result"
    }
   ],
   "source": [
    "try:\n",
    "    df = pd.read_csv('gym_churn.csv')\n",
    "except FileNotFoundError:\n",
    "    df = pd.read_csv('/datasets/gym_churn.csv')\n",
    "df.head()"
   ]
  },
  {
   "cell_type": "markdown",
   "metadata": {},
   "source": [
    "# Шаг 2. Исследовательский анализ данных (EDA)"
   ]
  },
  {
   "cell_type": "code",
   "execution_count": 3,
   "metadata": {},
   "outputs": [
    {
     "name": "stdout",
     "output_type": "stream",
     "text": [
      "Для анализа предоставлен датасет из 4000 строк и 14 столбцов\n"
     ]
    }
   ],
   "source": [
    "print(f'Для анализа предоставлен датасет из {df.shape[0]} строк и {df.shape[1]} столбцов')"
   ]
  },
  {
   "cell_type": "markdown",
   "metadata": {},
   "source": [
    "## Начальный анализ (пропуски, дубликаты)"
   ]
  },
  {
   "cell_type": "code",
   "execution_count": 4,
   "metadata": {},
   "outputs": [
    {
     "data": {
      "text/plain": [
       "gender                               0\n",
       "Near_Location                        0\n",
       "Partner                              0\n",
       "Promo_friends                        0\n",
       "Phone                                0\n",
       "Contract_period                      0\n",
       "Group_visits                         0\n",
       "Age                                  0\n",
       "Avg_additional_charges_total         0\n",
       "Month_to_end_contract                0\n",
       "Lifetime                             0\n",
       "Avg_class_frequency_total            0\n",
       "Avg_class_frequency_current_month    0\n",
       "Churn                                0\n",
       "dtype: int64"
      ]
     },
     "execution_count": 4,
     "metadata": {},
     "output_type": "execute_result"
    }
   ],
   "source": [
    "df.isna().sum()"
   ]
  },
  {
   "cell_type": "code",
   "execution_count": 5,
   "metadata": {},
   "outputs": [
    {
     "name": "stdout",
     "output_type": "stream",
     "text": [
      "gender - 0%\n",
      "Near_Location - 0%\n",
      "Partner - 0%\n",
      "Promo_friends - 0%\n",
      "Phone - 0%\n",
      "Contract_period - 0%\n",
      "Group_visits - 0%\n",
      "Age - 0%\n",
      "Avg_additional_charges_total - 0%\n",
      "Month_to_end_contract - 0%\n",
      "Lifetime - 0%\n",
      "Avg_class_frequency_total - 0%\n",
      "Avg_class_frequency_current_month - 0%\n",
      "Churn - 0%\n"
     ]
    }
   ],
   "source": [
    "for col in df.columns:\n",
    "    pct_missing = np.mean(df[col].isna())\n",
    "    print('{} - {}%'.format(col, round(pct_missing*100)))"
   ]
  },
  {
   "cell_type": "markdown",
   "metadata": {},
   "source": [
    "Пропусков нет, это хорошо )"
   ]
  },
  {
   "cell_type": "code",
   "execution_count": 6,
   "metadata": {},
   "outputs": [
    {
     "name": "stdout",
     "output_type": "stream",
     "text": [
      "<class 'pandas.core.frame.DataFrame'>\n",
      "RangeIndex: 4000 entries, 0 to 3999\n",
      "Data columns (total 14 columns):\n",
      " #   Column                             Non-Null Count  Dtype  \n",
      "---  ------                             --------------  -----  \n",
      " 0   gender                             4000 non-null   int64  \n",
      " 1   Near_Location                      4000 non-null   int64  \n",
      " 2   Partner                            4000 non-null   int64  \n",
      " 3   Promo_friends                      4000 non-null   int64  \n",
      " 4   Phone                              4000 non-null   int64  \n",
      " 5   Contract_period                    4000 non-null   int64  \n",
      " 6   Group_visits                       4000 non-null   int64  \n",
      " 7   Age                                4000 non-null   int64  \n",
      " 8   Avg_additional_charges_total       4000 non-null   float64\n",
      " 9   Month_to_end_contract              4000 non-null   float64\n",
      " 10  Lifetime                           4000 non-null   int64  \n",
      " 11  Avg_class_frequency_total          4000 non-null   float64\n",
      " 12  Avg_class_frequency_current_month  4000 non-null   float64\n",
      " 13  Churn                              4000 non-null   int64  \n",
      "dtypes: float64(4), int64(10)\n",
      "memory usage: 437.6 KB\n"
     ]
    }
   ],
   "source": [
    "df.info()"
   ]
  },
  {
   "cell_type": "code",
   "execution_count": 7,
   "metadata": {},
   "outputs": [
    {
     "data": {
      "text/html": [
       "<div>\n",
       "<style scoped>\n",
       "    .dataframe tbody tr th:only-of-type {\n",
       "        vertical-align: middle;\n",
       "    }\n",
       "\n",
       "    .dataframe tbody tr th {\n",
       "        vertical-align: top;\n",
       "    }\n",
       "\n",
       "    .dataframe thead th {\n",
       "        text-align: right;\n",
       "    }\n",
       "</style>\n",
       "<table border=\"1\" class=\"dataframe\">\n",
       "  <thead>\n",
       "    <tr style=\"text-align: right;\">\n",
       "      <th></th>\n",
       "      <th>gender</th>\n",
       "      <th>Near_Location</th>\n",
       "      <th>Partner</th>\n",
       "      <th>Promo_friends</th>\n",
       "      <th>Phone</th>\n",
       "      <th>Contract_period</th>\n",
       "      <th>Group_visits</th>\n",
       "      <th>Age</th>\n",
       "      <th>Avg_additional_charges_total</th>\n",
       "      <th>Month_to_end_contract</th>\n",
       "      <th>Lifetime</th>\n",
       "      <th>Avg_class_frequency_total</th>\n",
       "      <th>Avg_class_frequency_current_month</th>\n",
       "      <th>Churn</th>\n",
       "    </tr>\n",
       "  </thead>\n",
       "  <tbody>\n",
       "    <tr>\n",
       "      <th>0</th>\n",
       "      <td>1</td>\n",
       "      <td>1</td>\n",
       "      <td>1</td>\n",
       "      <td>1</td>\n",
       "      <td>0</td>\n",
       "      <td>6</td>\n",
       "      <td>1</td>\n",
       "      <td>29</td>\n",
       "      <td>14.227470</td>\n",
       "      <td>5.0</td>\n",
       "      <td>3</td>\n",
       "      <td>0.020398</td>\n",
       "      <td>0.000000</td>\n",
       "      <td>0</td>\n",
       "    </tr>\n",
       "    <tr>\n",
       "      <th>1</th>\n",
       "      <td>0</td>\n",
       "      <td>1</td>\n",
       "      <td>0</td>\n",
       "      <td>0</td>\n",
       "      <td>1</td>\n",
       "      <td>12</td>\n",
       "      <td>1</td>\n",
       "      <td>31</td>\n",
       "      <td>113.202938</td>\n",
       "      <td>12.0</td>\n",
       "      <td>7</td>\n",
       "      <td>1.922936</td>\n",
       "      <td>1.910244</td>\n",
       "      <td>0</td>\n",
       "    </tr>\n",
       "    <tr>\n",
       "      <th>2</th>\n",
       "      <td>0</td>\n",
       "      <td>1</td>\n",
       "      <td>1</td>\n",
       "      <td>0</td>\n",
       "      <td>1</td>\n",
       "      <td>1</td>\n",
       "      <td>0</td>\n",
       "      <td>28</td>\n",
       "      <td>129.448479</td>\n",
       "      <td>1.0</td>\n",
       "      <td>2</td>\n",
       "      <td>1.859098</td>\n",
       "      <td>1.736502</td>\n",
       "      <td>0</td>\n",
       "    </tr>\n",
       "    <tr>\n",
       "      <th>3</th>\n",
       "      <td>0</td>\n",
       "      <td>1</td>\n",
       "      <td>1</td>\n",
       "      <td>1</td>\n",
       "      <td>1</td>\n",
       "      <td>12</td>\n",
       "      <td>1</td>\n",
       "      <td>33</td>\n",
       "      <td>62.669863</td>\n",
       "      <td>12.0</td>\n",
       "      <td>2</td>\n",
       "      <td>3.205633</td>\n",
       "      <td>3.357215</td>\n",
       "      <td>0</td>\n",
       "    </tr>\n",
       "    <tr>\n",
       "      <th>4</th>\n",
       "      <td>1</td>\n",
       "      <td>1</td>\n",
       "      <td>1</td>\n",
       "      <td>1</td>\n",
       "      <td>1</td>\n",
       "      <td>1</td>\n",
       "      <td>0</td>\n",
       "      <td>26</td>\n",
       "      <td>198.362265</td>\n",
       "      <td>1.0</td>\n",
       "      <td>3</td>\n",
       "      <td>1.113884</td>\n",
       "      <td>1.120078</td>\n",
       "      <td>0</td>\n",
       "    </tr>\n",
       "  </tbody>\n",
       "</table>\n",
       "</div>"
      ],
      "text/plain": [
       "   gender  Near_Location  Partner  Promo_friends  Phone  Contract_period  \\\n",
       "0       1              1        1              1      0                6   \n",
       "1       0              1        0              0      1               12   \n",
       "2       0              1        1              0      1                1   \n",
       "3       0              1        1              1      1               12   \n",
       "4       1              1        1              1      1                1   \n",
       "\n",
       "   Group_visits  Age  Avg_additional_charges_total  Month_to_end_contract  \\\n",
       "0             1   29                     14.227470                    5.0   \n",
       "1             1   31                    113.202938                   12.0   \n",
       "2             0   28                    129.448479                    1.0   \n",
       "3             1   33                     62.669863                   12.0   \n",
       "4             0   26                    198.362265                    1.0   \n",
       "\n",
       "   Lifetime  Avg_class_frequency_total  Avg_class_frequency_current_month  \\\n",
       "0         3                   0.020398                           0.000000   \n",
       "1         7                   1.922936                           1.910244   \n",
       "2         2                   1.859098                           1.736502   \n",
       "3         2                   3.205633                           3.357215   \n",
       "4         3                   1.113884                           1.120078   \n",
       "\n",
       "   Churn  \n",
       "0      0  \n",
       "1      0  \n",
       "2      0  \n",
       "3      0  \n",
       "4      0  "
      ]
     },
     "execution_count": 7,
     "metadata": {},
     "output_type": "execute_result"
    }
   ],
   "source": [
    "df.head()"
   ]
  },
  {
   "cell_type": "code",
   "execution_count": 8,
   "metadata": {},
   "outputs": [
    {
     "data": {
      "text/plain": [
       "0"
      ]
     },
     "execution_count": 8,
     "metadata": {},
     "output_type": "execute_result"
    }
   ],
   "source": [
    "df.duplicated().sum()"
   ]
  },
  {
   "cell_type": "markdown",
   "metadata": {},
   "source": [
    "Данные хороши, пропусков нет, дубликатов нет, достаточно строк и столбцов. Можно работать )"
   ]
  },
  {
   "cell_type": "markdown",
   "metadata": {},
   "source": [
    "## Изучение средних значений и стандартных отклонений"
   ]
  },
  {
   "cell_type": "code",
   "execution_count": 9,
   "metadata": {},
   "outputs": [
    {
     "data": {
      "text/html": [
       "<div>\n",
       "<style scoped>\n",
       "    .dataframe tbody tr th:only-of-type {\n",
       "        vertical-align: middle;\n",
       "    }\n",
       "\n",
       "    .dataframe tbody tr th {\n",
       "        vertical-align: top;\n",
       "    }\n",
       "\n",
       "    .dataframe thead th {\n",
       "        text-align: right;\n",
       "    }\n",
       "</style>\n",
       "<table border=\"1\" class=\"dataframe\">\n",
       "  <thead>\n",
       "    <tr style=\"text-align: right;\">\n",
       "      <th></th>\n",
       "      <th>gender</th>\n",
       "      <th>Near_Location</th>\n",
       "      <th>Partner</th>\n",
       "      <th>Promo_friends</th>\n",
       "      <th>Phone</th>\n",
       "      <th>Contract_period</th>\n",
       "      <th>Group_visits</th>\n",
       "      <th>Age</th>\n",
       "      <th>Avg_additional_charges_total</th>\n",
       "      <th>Month_to_end_contract</th>\n",
       "      <th>Lifetime</th>\n",
       "      <th>Avg_class_frequency_total</th>\n",
       "      <th>Avg_class_frequency_current_month</th>\n",
       "      <th>Churn</th>\n",
       "    </tr>\n",
       "  </thead>\n",
       "  <tbody>\n",
       "    <tr>\n",
       "      <th>count</th>\n",
       "      <td>4000.000000</td>\n",
       "      <td>4000.000000</td>\n",
       "      <td>4000.000000</td>\n",
       "      <td>4000.000000</td>\n",
       "      <td>4000.000000</td>\n",
       "      <td>4000.000000</td>\n",
       "      <td>4000.000000</td>\n",
       "      <td>4000.000000</td>\n",
       "      <td>4000.000000</td>\n",
       "      <td>4000.000000</td>\n",
       "      <td>4000.000000</td>\n",
       "      <td>4000.000000</td>\n",
       "      <td>4000.000000</td>\n",
       "      <td>4000.000000</td>\n",
       "    </tr>\n",
       "    <tr>\n",
       "      <th>mean</th>\n",
       "      <td>0.510250</td>\n",
       "      <td>0.845250</td>\n",
       "      <td>0.486750</td>\n",
       "      <td>0.308500</td>\n",
       "      <td>0.903500</td>\n",
       "      <td>4.681250</td>\n",
       "      <td>0.412250</td>\n",
       "      <td>29.184250</td>\n",
       "      <td>146.943728</td>\n",
       "      <td>4.322750</td>\n",
       "      <td>3.724750</td>\n",
       "      <td>1.879020</td>\n",
       "      <td>1.767052</td>\n",
       "      <td>0.265250</td>\n",
       "    </tr>\n",
       "    <tr>\n",
       "      <th>std</th>\n",
       "      <td>0.499957</td>\n",
       "      <td>0.361711</td>\n",
       "      <td>0.499887</td>\n",
       "      <td>0.461932</td>\n",
       "      <td>0.295313</td>\n",
       "      <td>4.549706</td>\n",
       "      <td>0.492301</td>\n",
       "      <td>3.258367</td>\n",
       "      <td>96.355602</td>\n",
       "      <td>4.191297</td>\n",
       "      <td>3.749267</td>\n",
       "      <td>0.972245</td>\n",
       "      <td>1.052906</td>\n",
       "      <td>0.441521</td>\n",
       "    </tr>\n",
       "    <tr>\n",
       "      <th>min</th>\n",
       "      <td>0.000000</td>\n",
       "      <td>0.000000</td>\n",
       "      <td>0.000000</td>\n",
       "      <td>0.000000</td>\n",
       "      <td>0.000000</td>\n",
       "      <td>1.000000</td>\n",
       "      <td>0.000000</td>\n",
       "      <td>18.000000</td>\n",
       "      <td>0.148205</td>\n",
       "      <td>1.000000</td>\n",
       "      <td>0.000000</td>\n",
       "      <td>0.000000</td>\n",
       "      <td>0.000000</td>\n",
       "      <td>0.000000</td>\n",
       "    </tr>\n",
       "    <tr>\n",
       "      <th>25%</th>\n",
       "      <td>0.000000</td>\n",
       "      <td>1.000000</td>\n",
       "      <td>0.000000</td>\n",
       "      <td>0.000000</td>\n",
       "      <td>1.000000</td>\n",
       "      <td>1.000000</td>\n",
       "      <td>0.000000</td>\n",
       "      <td>27.000000</td>\n",
       "      <td>68.868830</td>\n",
       "      <td>1.000000</td>\n",
       "      <td>1.000000</td>\n",
       "      <td>1.180875</td>\n",
       "      <td>0.963003</td>\n",
       "      <td>0.000000</td>\n",
       "    </tr>\n",
       "    <tr>\n",
       "      <th>50%</th>\n",
       "      <td>1.000000</td>\n",
       "      <td>1.000000</td>\n",
       "      <td>0.000000</td>\n",
       "      <td>0.000000</td>\n",
       "      <td>1.000000</td>\n",
       "      <td>1.000000</td>\n",
       "      <td>0.000000</td>\n",
       "      <td>29.000000</td>\n",
       "      <td>136.220159</td>\n",
       "      <td>1.000000</td>\n",
       "      <td>3.000000</td>\n",
       "      <td>1.832768</td>\n",
       "      <td>1.719574</td>\n",
       "      <td>0.000000</td>\n",
       "    </tr>\n",
       "    <tr>\n",
       "      <th>75%</th>\n",
       "      <td>1.000000</td>\n",
       "      <td>1.000000</td>\n",
       "      <td>1.000000</td>\n",
       "      <td>1.000000</td>\n",
       "      <td>1.000000</td>\n",
       "      <td>6.000000</td>\n",
       "      <td>1.000000</td>\n",
       "      <td>31.000000</td>\n",
       "      <td>210.949625</td>\n",
       "      <td>6.000000</td>\n",
       "      <td>5.000000</td>\n",
       "      <td>2.536078</td>\n",
       "      <td>2.510336</td>\n",
       "      <td>1.000000</td>\n",
       "    </tr>\n",
       "    <tr>\n",
       "      <th>max</th>\n",
       "      <td>1.000000</td>\n",
       "      <td>1.000000</td>\n",
       "      <td>1.000000</td>\n",
       "      <td>1.000000</td>\n",
       "      <td>1.000000</td>\n",
       "      <td>12.000000</td>\n",
       "      <td>1.000000</td>\n",
       "      <td>41.000000</td>\n",
       "      <td>552.590740</td>\n",
       "      <td>12.000000</td>\n",
       "      <td>31.000000</td>\n",
       "      <td>6.023668</td>\n",
       "      <td>6.146783</td>\n",
       "      <td>1.000000</td>\n",
       "    </tr>\n",
       "  </tbody>\n",
       "</table>\n",
       "</div>"
      ],
      "text/plain": [
       "            gender  Near_Location      Partner  Promo_friends        Phone  \\\n",
       "count  4000.000000    4000.000000  4000.000000    4000.000000  4000.000000   \n",
       "mean      0.510250       0.845250     0.486750       0.308500     0.903500   \n",
       "std       0.499957       0.361711     0.499887       0.461932     0.295313   \n",
       "min       0.000000       0.000000     0.000000       0.000000     0.000000   \n",
       "25%       0.000000       1.000000     0.000000       0.000000     1.000000   \n",
       "50%       1.000000       1.000000     0.000000       0.000000     1.000000   \n",
       "75%       1.000000       1.000000     1.000000       1.000000     1.000000   \n",
       "max       1.000000       1.000000     1.000000       1.000000     1.000000   \n",
       "\n",
       "       Contract_period  Group_visits          Age  \\\n",
       "count      4000.000000   4000.000000  4000.000000   \n",
       "mean          4.681250      0.412250    29.184250   \n",
       "std           4.549706      0.492301     3.258367   \n",
       "min           1.000000      0.000000    18.000000   \n",
       "25%           1.000000      0.000000    27.000000   \n",
       "50%           1.000000      0.000000    29.000000   \n",
       "75%           6.000000      1.000000    31.000000   \n",
       "max          12.000000      1.000000    41.000000   \n",
       "\n",
       "       Avg_additional_charges_total  Month_to_end_contract     Lifetime  \\\n",
       "count                   4000.000000            4000.000000  4000.000000   \n",
       "mean                     146.943728               4.322750     3.724750   \n",
       "std                       96.355602               4.191297     3.749267   \n",
       "min                        0.148205               1.000000     0.000000   \n",
       "25%                       68.868830               1.000000     1.000000   \n",
       "50%                      136.220159               1.000000     3.000000   \n",
       "75%                      210.949625               6.000000     5.000000   \n",
       "max                      552.590740              12.000000    31.000000   \n",
       "\n",
       "       Avg_class_frequency_total  Avg_class_frequency_current_month  \\\n",
       "count                4000.000000                        4000.000000   \n",
       "mean                    1.879020                           1.767052   \n",
       "std                     0.972245                           1.052906   \n",
       "min                     0.000000                           0.000000   \n",
       "25%                     1.180875                           0.963003   \n",
       "50%                     1.832768                           1.719574   \n",
       "75%                     2.536078                           2.510336   \n",
       "max                     6.023668                           6.146783   \n",
       "\n",
       "             Churn  \n",
       "count  4000.000000  \n",
       "mean      0.265250  \n",
       "std       0.441521  \n",
       "min       0.000000  \n",
       "25%       0.000000  \n",
       "50%       0.000000  \n",
       "75%       1.000000  \n",
       "max       1.000000  "
      ]
     },
     "execution_count": 9,
     "metadata": {},
     "output_type": "execute_result"
    }
   ],
   "source": [
    "df.describe()"
   ]
  },
  {
   "cell_type": "markdown",
   "metadata": {},
   "source": [
    "На первый взгляд, типичный клиент выглядит следующим образом:\n",
    "- На 1% вероятней что это мужчина, чем женщина, мужчин ходит самую малость больше\n",
    "- Скорее всего проживает либо работает в этом же районе\n",
    "- Скорее всего что он не пришел по промо от друга\n",
    "- С большой долей вероятности оставил свой контактный номер\n",
    "- Типичный абонемент - 6 месяцев\n",
    "- Скорее не посещает, чем посещает групповые занятия, однако доля тех кто посещает - 40%.\n",
    "- Возраст около 29 лет +- 3 года\n",
    "- В среднем на доп услуги тратит порядка 147 уе.\n",
    "- Осталось посещать фитнес зал еще 4 с небольшим месяцев\n",
    "- Посещает уже чуть больше 3,5 месяцев\n",
    "- Ходит на фитнес около 2 раз в неделю в среднем\n",
    "- И почти столько же за последний месяц\n",
    "- Скорее останется, чем уйдет"
   ]
  },
  {
   "cell_type": "markdown",
   "metadata": {},
   "source": [
    "## Посмотрим на средние значения признаков в двух группах — тех, кто ушел в отток и тех, кто остался"
   ]
  },
  {
   "cell_type": "code",
   "execution_count": 10,
   "metadata": {},
   "outputs": [
    {
     "data": {
      "text/html": [
       "<div>\n",
       "<style scoped>\n",
       "    .dataframe tbody tr th:only-of-type {\n",
       "        vertical-align: middle;\n",
       "    }\n",
       "\n",
       "    .dataframe tbody tr th {\n",
       "        vertical-align: top;\n",
       "    }\n",
       "\n",
       "    .dataframe thead th {\n",
       "        text-align: right;\n",
       "    }\n",
       "</style>\n",
       "<table border=\"1\" class=\"dataframe\">\n",
       "  <thead>\n",
       "    <tr style=\"text-align: right;\">\n",
       "      <th></th>\n",
       "      <th>gender</th>\n",
       "      <th>Near_Location</th>\n",
       "      <th>Partner</th>\n",
       "      <th>Promo_friends</th>\n",
       "      <th>Phone</th>\n",
       "      <th>Contract_period</th>\n",
       "      <th>Group_visits</th>\n",
       "      <th>Age</th>\n",
       "      <th>Avg_additional_charges_total</th>\n",
       "      <th>Month_to_end_contract</th>\n",
       "      <th>Lifetime</th>\n",
       "      <th>Avg_class_frequency_total</th>\n",
       "      <th>Avg_class_frequency_current_month</th>\n",
       "    </tr>\n",
       "    <tr>\n",
       "      <th>Churn</th>\n",
       "      <th></th>\n",
       "      <th></th>\n",
       "      <th></th>\n",
       "      <th></th>\n",
       "      <th></th>\n",
       "      <th></th>\n",
       "      <th></th>\n",
       "      <th></th>\n",
       "      <th></th>\n",
       "      <th></th>\n",
       "      <th></th>\n",
       "      <th></th>\n",
       "      <th></th>\n",
       "    </tr>\n",
       "  </thead>\n",
       "  <tbody>\n",
       "    <tr>\n",
       "      <th>0</th>\n",
       "      <td>0.510037</td>\n",
       "      <td>0.873086</td>\n",
       "      <td>0.534195</td>\n",
       "      <td>0.353522</td>\n",
       "      <td>0.903709</td>\n",
       "      <td>5.747193</td>\n",
       "      <td>0.464103</td>\n",
       "      <td>29.976523</td>\n",
       "      <td>158.445715</td>\n",
       "      <td>5.283089</td>\n",
       "      <td>4.711807</td>\n",
       "      <td>2.024876</td>\n",
       "      <td>2.027882</td>\n",
       "    </tr>\n",
       "    <tr>\n",
       "      <th>1</th>\n",
       "      <td>0.510839</td>\n",
       "      <td>0.768143</td>\n",
       "      <td>0.355325</td>\n",
       "      <td>0.183789</td>\n",
       "      <td>0.902922</td>\n",
       "      <td>1.728558</td>\n",
       "      <td>0.268615</td>\n",
       "      <td>26.989632</td>\n",
       "      <td>115.082899</td>\n",
       "      <td>1.662582</td>\n",
       "      <td>0.990575</td>\n",
       "      <td>1.474995</td>\n",
       "      <td>1.044546</td>\n",
       "    </tr>\n",
       "  </tbody>\n",
       "</table>\n",
       "</div>"
      ],
      "text/plain": [
       "         gender  Near_Location   Partner  Promo_friends     Phone  \\\n",
       "Churn                                                               \n",
       "0      0.510037       0.873086  0.534195       0.353522  0.903709   \n",
       "1      0.510839       0.768143  0.355325       0.183789  0.902922   \n",
       "\n",
       "       Contract_period  Group_visits        Age  Avg_additional_charges_total  \\\n",
       "Churn                                                                           \n",
       "0             5.747193      0.464103  29.976523                    158.445715   \n",
       "1             1.728558      0.268615  26.989632                    115.082899   \n",
       "\n",
       "       Month_to_end_contract  Lifetime  Avg_class_frequency_total  \\\n",
       "Churn                                                               \n",
       "0                   5.283089  4.711807                   2.024876   \n",
       "1                   1.662582  0.990575                   1.474995   \n",
       "\n",
       "       Avg_class_frequency_current_month  \n",
       "Churn                                     \n",
       "0                               2.027882  \n",
       "1                               1.044546  "
      ]
     },
     "execution_count": 10,
     "metadata": {},
     "output_type": "execute_result"
    }
   ],
   "source": [
    "df.groupby('Churn').mean()"
   ]
  },
  {
   "cell_type": "markdown",
   "metadata": {},
   "source": [
    "Сразу же бросается в глаза, что уходят в основном те, кто:\n",
    "- Пришел не по приглашению\n",
    "- Взял минимальный абонемент (среднее значение меньше 2, значит преообладают месячные, а не долгосрочные абонементы), и соответсвенно имеет гораздо меньшее среднее время до конца контракта\n",
    "- В основном не посещает групповые занятия\n",
    "- Тратит меньше денег на доп. услуги\n",
    "- За последний месяц, посещал фитнесс центр в среднем всего 1 раз за неделю\n",
    "\n",
    "Дальше посмотрим корреляции, но мне кажется что частота посещений и вид абонемента - будут иметь самую высокую корреляцию с оттоком"
   ]
  },
  {
   "cell_type": "markdown",
   "metadata": {},
   "source": [
    "## Построим столбчатые гистограммы и распределения признаков для тех, кто ушёл (отток) и тех, кто остался (не попали в отток)"
   ]
  },
  {
   "cell_type": "markdown",
   "metadata": {},
   "source": [
    "Выделим не категориальные признаки отдельно и категориальные отдельно"
   ]
  },
  {
   "cell_type": "code",
   "execution_count": 11,
   "metadata": {},
   "outputs": [],
   "source": [
    "col_nepr = ['Avg_additional_charges_total',  'Avg_class_frequency_total', \n",
    "            'Avg_class_frequency_current_month', 'Lifetime', 'Age']\n",
    "col_cat = df.columns[:-1][~df.columns[:-1].isin(col_nepr)]"
   ]
  },
  {
   "cell_type": "code",
   "execution_count": 12,
   "metadata": {
    "scrolled": false
   },
   "outputs": [
    {
     "data": {
      "image/png": "[encoded data removed]",
      "text/plain": [
       "<Figure size 432x288 with 1 Axes>"
      ]
     },
     "metadata": {
      "needs_background": "light"
     },
     "output_type": "display_data"
    },
    {
     "data": {
      "image/png": "[encoded data removed]",
      "text/plain": [
       "<Figure size 432x288 with 1 Axes>"
      ]
     },
     "metadata": {
      "needs_background": "light"
     },
     "output_type": "display_data"
    },
    {
     "data": {
      "image/png": "[encoded data removed]",
      "text/plain": [
       "<Figure size 432x288 with 1 Axes>"
      ]
     },
     "metadata": {
      "needs_background": "light"
     },
     "output_type": "display_data"
    },
    {
     "data": {
      "image/png": "[encoded data removed]",
      "text/plain": [
       "<Figure size 432x288 with 1 Axes>"
      ]
     },
     "metadata": {
      "needs_background": "light"
     },
     "output_type": "display_data"
    },
    {
     "data": {
      "image/png": "[encoded data removed]",
      "text/plain": [
       "<Figure size 432x288 with 1 Axes>"
      ]
     },
     "metadata": {
      "needs_background": "light"
     },
     "output_type": "display_data"
    },
    {
     "data": {
      "image/png": "[encoded data removed]",
      "text/plain": [
       "<Figure size 432x288 with 1 Axes>"
      ]
     },
     "metadata": {
      "needs_background": "light"
     },
     "output_type": "display_data"
    },
    {
     "data": {
      "image/png": "[encoded data removed]",
      "text/plain": [
       "<Figure size 432x288 with 1 Axes>"
      ]
     },
     "metadata": {
      "needs_background": "light"
     },
     "output_type": "display_data"
    },
    {
     "data": {
      "image/png": "[encoded data removed]",
      "text/plain": [
       "<Figure size 432x288 with 1 Axes>"
      ]
     },
     "metadata": {
      "needs_background": "light"
     },
     "output_type": "display_data"
    }
   ],
   "source": [
    "for col in col_cat:\n",
    "    plt.figure(figsize=(6,4))\n",
    "    sns.countplot(x = df[col], hue='Churn', data=df)\n",
    "    plt.title(f'Распеределение ушедших и не ушедших по признаку {col}')\n",
    "    plt.xlabel(col)\n",
    "    plt.ylabel('Количество')\n",
    "    plt.grid()\n",
    "    plt.show()"
   ]
  },
  {
   "cell_type": "markdown",
   "metadata": {},
   "source": [
    "По распределению можно сделать следующие выводы:\n",
    "\n",
    "- Больше уходят те, кто живет или работает не рядом с фитнес центром, возможно они находят себе другой зал, поближе.\n",
    "\n",
    "- Те, кто являются клиентами от компании партнера, так же меньше подвержены оттоку.\n",
    "\n",
    "-  Чем меньше срок абонемента - тем выше шанс оттока\n",
    "\n",
    "- У тех кто не посещает групповые занятия, так же шанс того что они покинут заведение повышен\n",
    "\n",
    "- Так же сильно увеличивается шанс оттока, если до конца абонемента остался месяц или меньше."
   ]
  },
  {
   "cell_type": "code",
   "execution_count": 13,
   "metadata": {},
   "outputs": [
    {
     "data": {
      "image/png": "[encoded data removed]",
      "text/plain": [
       "<Figure size 432x288 with 1 Axes>"
      ]
     },
     "metadata": {
      "needs_background": "light"
     },
     "output_type": "display_data"
    },
    {
     "data": {
      "image/png": "[encoded data removed]",
      "text/plain": [
       "<Figure size 432x288 with 1 Axes>"
      ]
     },
     "metadata": {
      "needs_background": "light"
     },
     "output_type": "display_data"
    },
    {
     "data": {
      "image/png": "[encoded data removed]",
      "text/plain": [
       "<Figure size 432x288 with 1 Axes>"
      ]
     },
     "metadata": {
      "needs_background": "light"
     },
     "output_type": "display_data"
    },
    {
     "data": {
      "image/png": "[encoded data removed]",
      "text/plain": [
       "<Figure size 432x288 with 1 Axes>"
      ]
     },
     "metadata": {
      "needs_background": "light"
     },
     "output_type": "display_data"
    },
    {
     "data": {
      "image/png": "[encoded data removed]",
      "text/plain": [
       "<Figure size 432x288 with 1 Axes>"
      ]
     },
     "metadata": {
      "needs_background": "light"
     },
     "output_type": "display_data"
    }
   ],
   "source": [
    "for col in col_nepr:\n",
    "    plt.figure(figsize=(6,4))\n",
    "    sns.boxplot(x = 'Churn', y = df[col], data = df)\n",
    "    plt.title(f'Распеределение ушедших и не ушедших по признаку {col}')\n",
    "    plt.ylabel('Количество')\n",
    "    plt.grid()\n",
    "    plt.show()"
   ]
  },
  {
   "cell_type": "markdown",
   "metadata": {},
   "source": [
    "- Те кто ушел, в среднем тратят процентов на 50 меньше, чем те кто остался\n",
    "\n",
    "- И ходят около 1 раза в неделю в последний наблюдаемый месяц, мне кажется что этот  признак прям звоночек, что надо бы принимать меры\n",
    "\n",
    "- Возраст тоже видимо играет какую то роль, более молодые клиенты видимо менее консервативные, возможно они чаще меняют заведения"
   ]
  },
  {
   "cell_type": "code",
   "execution_count": 14,
   "metadata": {},
   "outputs": [],
   "source": [
    "corr = df.corr()"
   ]
  },
  {
   "cell_type": "code",
   "execution_count": 15,
   "metadata": {},
   "outputs": [
    {
     "data": {
      "image/png": "[encoded data removed]",
      "text/plain": [
       "<Figure size 1008x720 with 2 Axes>"
      ]
     },
     "metadata": {
      "needs_background": "light"
     },
     "output_type": "display_data"
    }
   ],
   "source": [
    "plt.figure(figsize=(14, 10))\n",
    "sns.heatmap(corr, annot=True, fmt='.2g', linewidths=.5, square = True);"
   ]
  },
  {
   "cell_type": "markdown",
   "metadata": {},
   "source": [
    "Из корреляций, не относящихся к оттоку, сильно зависят друг от друга такие параметры как:  время до окончания периода и срок абонемента, а так же среднее количество посещений в неделю вообще и среднее количество посещений в неделю за последний месяц. Думаю, что перед обучением модели, надо будет избавиться от этих параметров."
   ]
  },
  {
   "cell_type": "code",
   "execution_count": 16,
   "metadata": {},
   "outputs": [
    {
     "name": "stdout",
     "output_type": "stream",
     "text": [
      "Коэффициент корреляции Оттока к Contract_period составляет -0.39\n",
      "Коэффициент корреляции Оттока к Age составляет -0.405\n",
      "Коэффициент корреляции Оттока к Month_to_end_contract составляет -0.381\n",
      "Коэффициент корреляции Оттока к Lifetime составляет -0.438\n",
      "Коэффициент корреляции Оттока к Avg_class_frequency_current_month составляет -0.412\n"
     ]
    }
   ],
   "source": [
    "level = 0.3\n",
    "for i in df.columns[:-1]:\n",
    "    curr_corr = df[i].corr(df.Churn)\n",
    "    if abs(curr_corr) >= level:        \n",
    "        print(f\"Коэффициент корреляции Оттока к {i} составляет {str(round(curr_corr,3))}\")"
   ]
  },
  {
   "cell_type": "markdown",
   "metadata": {},
   "source": [
    "С оттоком больше всего коррелируют следующие параметры:\n",
    "\n",
    "- Срок абонемента\n",
    "\n",
    "- Возраст\n",
    "\n",
    "- Срок до окончания абонемента\n",
    "\n",
    "- Общее время посещения\n",
    "\n",
    "- Среднее количество посещений в последний месяц.\n",
    "\n",
    "Все корреляции имеют обратный характер, чем меньше параметр, тем выше шанс оттока"
   ]
  },
  {
   "cell_type": "markdown",
   "metadata": {},
   "source": [
    "# Шаг 3. Модель прогнозирования оттока клиентов"
   ]
  },
  {
   "cell_type": "markdown",
   "metadata": {},
   "source": [
    "Для начала дропнем признаки, которые имеют высокую корреляцию друг с другом"
   ]
  },
  {
   "cell_type": "code",
   "execution_count": 17,
   "metadata": {},
   "outputs": [
    {
     "data": {
      "text/html": [
       "<div>\n",
       "<style scoped>\n",
       "    .dataframe tbody tr th:only-of-type {\n",
       "        vertical-align: middle;\n",
       "    }\n",
       "\n",
       "    .dataframe tbody tr th {\n",
       "        vertical-align: top;\n",
       "    }\n",
       "\n",
       "    .dataframe thead th {\n",
       "        text-align: right;\n",
       "    }\n",
       "</style>\n",
       "<table border=\"1\" class=\"dataframe\">\n",
       "  <thead>\n",
       "    <tr style=\"text-align: right;\">\n",
       "      <th></th>\n",
       "      <th>gender</th>\n",
       "      <th>Near_Location</th>\n",
       "      <th>Partner</th>\n",
       "      <th>Promo_friends</th>\n",
       "      <th>Phone</th>\n",
       "      <th>Contract_period</th>\n",
       "      <th>Group_visits</th>\n",
       "      <th>Age</th>\n",
       "      <th>Avg_additional_charges_total</th>\n",
       "      <th>Month_to_end_contract</th>\n",
       "      <th>Lifetime</th>\n",
       "      <th>Avg_class_frequency_total</th>\n",
       "      <th>Avg_class_frequency_current_month</th>\n",
       "      <th>Churn</th>\n",
       "    </tr>\n",
       "  </thead>\n",
       "  <tbody>\n",
       "    <tr>\n",
       "      <th>0</th>\n",
       "      <td>1</td>\n",
       "      <td>1</td>\n",
       "      <td>1</td>\n",
       "      <td>1</td>\n",
       "      <td>0</td>\n",
       "      <td>6</td>\n",
       "      <td>1</td>\n",
       "      <td>29</td>\n",
       "      <td>14.227470</td>\n",
       "      <td>5.0</td>\n",
       "      <td>3</td>\n",
       "      <td>0.020398</td>\n",
       "      <td>0.000000</td>\n",
       "      <td>0</td>\n",
       "    </tr>\n",
       "    <tr>\n",
       "      <th>1</th>\n",
       "      <td>0</td>\n",
       "      <td>1</td>\n",
       "      <td>0</td>\n",
       "      <td>0</td>\n",
       "      <td>1</td>\n",
       "      <td>12</td>\n",
       "      <td>1</td>\n",
       "      <td>31</td>\n",
       "      <td>113.202938</td>\n",
       "      <td>12.0</td>\n",
       "      <td>7</td>\n",
       "      <td>1.922936</td>\n",
       "      <td>1.910244</td>\n",
       "      <td>0</td>\n",
       "    </tr>\n",
       "    <tr>\n",
       "      <th>2</th>\n",
       "      <td>0</td>\n",
       "      <td>1</td>\n",
       "      <td>1</td>\n",
       "      <td>0</td>\n",
       "      <td>1</td>\n",
       "      <td>1</td>\n",
       "      <td>0</td>\n",
       "      <td>28</td>\n",
       "      <td>129.448479</td>\n",
       "      <td>1.0</td>\n",
       "      <td>2</td>\n",
       "      <td>1.859098</td>\n",
       "      <td>1.736502</td>\n",
       "      <td>0</td>\n",
       "    </tr>\n",
       "    <tr>\n",
       "      <th>3</th>\n",
       "      <td>0</td>\n",
       "      <td>1</td>\n",
       "      <td>1</td>\n",
       "      <td>1</td>\n",
       "      <td>1</td>\n",
       "      <td>12</td>\n",
       "      <td>1</td>\n",
       "      <td>33</td>\n",
       "      <td>62.669863</td>\n",
       "      <td>12.0</td>\n",
       "      <td>2</td>\n",
       "      <td>3.205633</td>\n",
       "      <td>3.357215</td>\n",
       "      <td>0</td>\n",
       "    </tr>\n",
       "    <tr>\n",
       "      <th>4</th>\n",
       "      <td>1</td>\n",
       "      <td>1</td>\n",
       "      <td>1</td>\n",
       "      <td>1</td>\n",
       "      <td>1</td>\n",
       "      <td>1</td>\n",
       "      <td>0</td>\n",
       "      <td>26</td>\n",
       "      <td>198.362265</td>\n",
       "      <td>1.0</td>\n",
       "      <td>3</td>\n",
       "      <td>1.113884</td>\n",
       "      <td>1.120078</td>\n",
       "      <td>0</td>\n",
       "    </tr>\n",
       "  </tbody>\n",
       "</table>\n",
       "</div>"
      ],
      "text/plain": [
       "   gender  Near_Location  Partner  Promo_friends  Phone  Contract_period  \\\n",
       "0       1              1        1              1      0                6   \n",
       "1       0              1        0              0      1               12   \n",
       "2       0              1        1              0      1                1   \n",
       "3       0              1        1              1      1               12   \n",
       "4       1              1        1              1      1                1   \n",
       "\n",
       "   Group_visits  Age  Avg_additional_charges_total  Month_to_end_contract  \\\n",
       "0             1   29                     14.227470                    5.0   \n",
       "1             1   31                    113.202938                   12.0   \n",
       "2             0   28                    129.448479                    1.0   \n",
       "3             1   33                     62.669863                   12.0   \n",
       "4             0   26                    198.362265                    1.0   \n",
       "\n",
       "   Lifetime  Avg_class_frequency_total  Avg_class_frequency_current_month  \\\n",
       "0         3                   0.020398                           0.000000   \n",
       "1         7                   1.922936                           1.910244   \n",
       "2         2                   1.859098                           1.736502   \n",
       "3         2                   3.205633                           3.357215   \n",
       "4         3                   1.113884                           1.120078   \n",
       "\n",
       "   Churn  \n",
       "0      0  \n",
       "1      0  \n",
       "2      0  \n",
       "3      0  \n",
       "4      0  "
      ]
     },
     "execution_count": 17,
     "metadata": {},
     "output_type": "execute_result"
    }
   ],
   "source": [
    "df.head()"
   ]
  },
  {
   "cell_type": "code",
   "execution_count": 18,
   "metadata": {},
   "outputs": [],
   "source": [
    "data = df.drop(['Avg_class_frequency_total', 'Month_to_end_contract'] , axis=1)"
   ]
  },
  {
   "cell_type": "code",
   "execution_count": 19,
   "metadata": {},
   "outputs": [
    {
     "data": {
      "text/html": [
       "<div>\n",
       "<style scoped>\n",
       "    .dataframe tbody tr th:only-of-type {\n",
       "        vertical-align: middle;\n",
       "    }\n",
       "\n",
       "    .dataframe tbody tr th {\n",
       "        vertical-align: top;\n",
       "    }\n",
       "\n",
       "    .dataframe thead th {\n",
       "        text-align: right;\n",
       "    }\n",
       "</style>\n",
       "<table border=\"1\" class=\"dataframe\">\n",
       "  <thead>\n",
       "    <tr style=\"text-align: right;\">\n",
       "      <th></th>\n",
       "      <th>gender</th>\n",
       "      <th>Near_Location</th>\n",
       "      <th>Partner</th>\n",
       "      <th>Promo_friends</th>\n",
       "      <th>Phone</th>\n",
       "      <th>Contract_period</th>\n",
       "      <th>Group_visits</th>\n",
       "      <th>Age</th>\n",
       "      <th>Avg_additional_charges_total</th>\n",
       "      <th>Lifetime</th>\n",
       "      <th>Avg_class_frequency_current_month</th>\n",
       "      <th>Churn</th>\n",
       "    </tr>\n",
       "  </thead>\n",
       "  <tbody>\n",
       "    <tr>\n",
       "      <th>0</th>\n",
       "      <td>1</td>\n",
       "      <td>1</td>\n",
       "      <td>1</td>\n",
       "      <td>1</td>\n",
       "      <td>0</td>\n",
       "      <td>6</td>\n",
       "      <td>1</td>\n",
       "      <td>29</td>\n",
       "      <td>14.227470</td>\n",
       "      <td>3</td>\n",
       "      <td>0.000000</td>\n",
       "      <td>0</td>\n",
       "    </tr>\n",
       "    <tr>\n",
       "      <th>1</th>\n",
       "      <td>0</td>\n",
       "      <td>1</td>\n",
       "      <td>0</td>\n",
       "      <td>0</td>\n",
       "      <td>1</td>\n",
       "      <td>12</td>\n",
       "      <td>1</td>\n",
       "      <td>31</td>\n",
       "      <td>113.202938</td>\n",
       "      <td>7</td>\n",
       "      <td>1.910244</td>\n",
       "      <td>0</td>\n",
       "    </tr>\n",
       "    <tr>\n",
       "      <th>2</th>\n",
       "      <td>0</td>\n",
       "      <td>1</td>\n",
       "      <td>1</td>\n",
       "      <td>0</td>\n",
       "      <td>1</td>\n",
       "      <td>1</td>\n",
       "      <td>0</td>\n",
       "      <td>28</td>\n",
       "      <td>129.448479</td>\n",
       "      <td>2</td>\n",
       "      <td>1.736502</td>\n",
       "      <td>0</td>\n",
       "    </tr>\n",
       "    <tr>\n",
       "      <th>3</th>\n",
       "      <td>0</td>\n",
       "      <td>1</td>\n",
       "      <td>1</td>\n",
       "      <td>1</td>\n",
       "      <td>1</td>\n",
       "      <td>12</td>\n",
       "      <td>1</td>\n",
       "      <td>33</td>\n",
       "      <td>62.669863</td>\n",
       "      <td>2</td>\n",
       "      <td>3.357215</td>\n",
       "      <td>0</td>\n",
       "    </tr>\n",
       "    <tr>\n",
       "      <th>4</th>\n",
       "      <td>1</td>\n",
       "      <td>1</td>\n",
       "      <td>1</td>\n",
       "      <td>1</td>\n",
       "      <td>1</td>\n",
       "      <td>1</td>\n",
       "      <td>0</td>\n",
       "      <td>26</td>\n",
       "      <td>198.362265</td>\n",
       "      <td>3</td>\n",
       "      <td>1.120078</td>\n",
       "      <td>0</td>\n",
       "    </tr>\n",
       "  </tbody>\n",
       "</table>\n",
       "</div>"
      ],
      "text/plain": [
       "   gender  Near_Location  Partner  Promo_friends  Phone  Contract_period  \\\n",
       "0       1              1        1              1      0                6   \n",
       "1       0              1        0              0      1               12   \n",
       "2       0              1        1              0      1                1   \n",
       "3       0              1        1              1      1               12   \n",
       "4       1              1        1              1      1                1   \n",
       "\n",
       "   Group_visits  Age  Avg_additional_charges_total  Lifetime  \\\n",
       "0             1   29                     14.227470         3   \n",
       "1             1   31                    113.202938         7   \n",
       "2             0   28                    129.448479         2   \n",
       "3             1   33                     62.669863         2   \n",
       "4             0   26                    198.362265         3   \n",
       "\n",
       "   Avg_class_frequency_current_month  Churn  \n",
       "0                           0.000000      0  \n",
       "1                           1.910244      0  \n",
       "2                           1.736502      0  \n",
       "3                           3.357215      0  \n",
       "4                           1.120078      0  "
      ]
     },
     "execution_count": 19,
     "metadata": {},
     "output_type": "execute_result"
    }
   ],
   "source": [
    "data.head()"
   ]
  },
  {
   "cell_type": "markdown",
   "metadata": {},
   "source": [
    "## Разобъем данные на целевые переменные и признаки, на обучающую и валидационную выборку"
   ]
  },
  {
   "cell_type": "code",
   "execution_count": 20,
   "metadata": {},
   "outputs": [],
   "source": [
    "X = data.drop('Churn', axis=1)\n",
    "y = data['Churn']"
   ]
  },
  {
   "cell_type": "code",
   "execution_count": 21,
   "metadata": {},
   "outputs": [],
   "source": [
    "X_train, X_test, y_train, y_test = train_test_split(\n",
    "    X, y, test_size=0.2, random_state=0)"
   ]
  },
  {
   "cell_type": "markdown",
   "metadata": {},
   "source": [
    "## Обучим модель двумя способами: логистической регрессией, случайным лесом."
   ]
  },
  {
   "cell_type": "markdown",
   "metadata": {},
   "source": [
    "### логистическая регрессия"
   ]
  },
  {
   "cell_type": "code",
   "execution_count": 22,
   "metadata": {},
   "outputs": [],
   "source": [
    "roc_auc_dict = dict()"
   ]
  },
  {
   "cell_type": "code",
   "execution_count": 23,
   "metadata": {},
   "outputs": [
    {
     "name": "stdout",
     "output_type": "stream",
     "text": [
      "Precision: 0.79\n",
      "Recall: 0.79\n",
      "F1: 0.79\n",
      "Roc_auc: 0.86\n"
     ]
    }
   ],
   "source": [
    "model_log = LogisticRegression(solver='liblinear', random_state = 42 )\n",
    "model_log.fit(X_train, y_train)\n",
    "probabilities = model_log.predict_proba(X_test)[:, 1]\n",
    "predictions = model_log.predict(X_test)\n",
    "print('Precision: {:.2f}'.format(precision_score(y_test, predictions)))\n",
    "print('Recall: {:.2f}'.format(recall_score(y_test, predictions)))\n",
    "print('F1: {:.2f}'.format(f1_score(y_test, predictions)))\n",
    "print('Roc_auc: {:.2f}'.format(roc_auc_score(y_test, predictions)))"
   ]
  },
  {
   "cell_type": "code",
   "execution_count": 24,
   "metadata": {},
   "outputs": [],
   "source": [
    "roc_auc_dict.update({'model_log': roc_auc_score(y_test, predictions)})"
   ]
  },
  {
   "cell_type": "markdown",
   "metadata": {},
   "source": [
    "### Случайный лес "
   ]
  },
  {
   "cell_type": "code",
   "execution_count": 25,
   "metadata": {
    "scrolled": true
   },
   "outputs": [
    {
     "name": "stdout",
     "output_type": "stream",
     "text": [
      "5\n",
      "30\n",
      "55\n",
      "80\n",
      "105\n",
      "130\n",
      "155\n",
      "180\n",
      "205\n",
      "230\n",
      "255\n",
      "280\n",
      "305\n",
      "330\n",
      "355\n",
      "380\n",
      "405\n",
      "430\n",
      "455\n",
      "480\n"
     ]
    }
   ],
   "source": [
    "scores = {}\n",
    "scores['n_estimators'] = []\n",
    "scores['Precision'] = []\n",
    "scores['Recall'] = []\n",
    "scores['F1'] = []\n",
    "scores['Roc_auc'] = []\n",
    "for estimator in range(5,500,25):\n",
    "    print(estimator)\n",
    "    scores['n_estimators'].append(estimator)\n",
    "    rf_model = RandomForestClassifier(n_estimators = estimator, random_state = 42) \n",
    "    rf_model.fit(X_train, y_train)\n",
    "    rf_predictions = rf_model.predict(X_test) \n",
    "    rf_probabilities = rf_model.predict_proba(X_test)[:,1]\n",
    "    \n",
    "    scores['Precision'].append(precision_score(y_test, rf_predictions))\n",
    "    scores['Recall'].append(recall_score(y_test, rf_predictions))\n",
    "    scores['F1'].append(f1_score(y_test, rf_predictions))\n",
    "    scores['Roc_auc'].append(roc_auc_score(y_test, rf_predictions))\n",
    "    \n",
    "frame = pd.DataFrame(scores).set_index('n_estimators')"
   ]
  },
  {
   "cell_type": "code",
   "execution_count": 26,
   "metadata": {},
   "outputs": [
    {
     "data": {
      "text/html": [
       "<div>\n",
       "<style scoped>\n",
       "    .dataframe tbody tr th:only-of-type {\n",
       "        vertical-align: middle;\n",
       "    }\n",
       "\n",
       "    .dataframe tbody tr th {\n",
       "        vertical-align: top;\n",
       "    }\n",
       "\n",
       "    .dataframe thead th {\n",
       "        text-align: right;\n",
       "    }\n",
       "</style>\n",
       "<table border=\"1\" class=\"dataframe\">\n",
       "  <thead>\n",
       "    <tr style=\"text-align: right;\">\n",
       "      <th></th>\n",
       "      <th>Precision</th>\n",
       "      <th>Recall</th>\n",
       "      <th>F1</th>\n",
       "      <th>Roc_auc</th>\n",
       "    </tr>\n",
       "    <tr>\n",
       "      <th>n_estimators</th>\n",
       "      <th></th>\n",
       "      <th></th>\n",
       "      <th></th>\n",
       "      <th></th>\n",
       "    </tr>\n",
       "  </thead>\n",
       "  <tbody>\n",
       "    <tr>\n",
       "      <th>5</th>\n",
       "      <td>0.769231</td>\n",
       "      <td>0.757576</td>\n",
       "      <td>0.763359</td>\n",
       "      <td>0.841412</td>\n",
       "    </tr>\n",
       "    <tr>\n",
       "      <th>30</th>\n",
       "      <td>0.809783</td>\n",
       "      <td>0.752525</td>\n",
       "      <td>0.780105</td>\n",
       "      <td>0.847193</td>\n",
       "    </tr>\n",
       "    <tr>\n",
       "      <th>55</th>\n",
       "      <td>0.813830</td>\n",
       "      <td>0.772727</td>\n",
       "      <td>0.792746</td>\n",
       "      <td>0.857294</td>\n",
       "    </tr>\n",
       "    <tr>\n",
       "      <th>80</th>\n",
       "      <td>0.822581</td>\n",
       "      <td>0.772727</td>\n",
       "      <td>0.796875</td>\n",
       "      <td>0.858955</td>\n",
       "    </tr>\n",
       "    <tr>\n",
       "      <th>105</th>\n",
       "      <td>0.816216</td>\n",
       "      <td>0.762626</td>\n",
       "      <td>0.788512</td>\n",
       "      <td>0.853074</td>\n",
       "    </tr>\n",
       "    <tr>\n",
       "      <th>130</th>\n",
       "      <td>0.823529</td>\n",
       "      <td>0.777778</td>\n",
       "      <td>0.800000</td>\n",
       "      <td>0.861480</td>\n",
       "    </tr>\n",
       "    <tr>\n",
       "      <th>155</th>\n",
       "      <td>0.823529</td>\n",
       "      <td>0.777778</td>\n",
       "      <td>0.800000</td>\n",
       "      <td>0.861480</td>\n",
       "    </tr>\n",
       "    <tr>\n",
       "      <th>180</th>\n",
       "      <td>0.815217</td>\n",
       "      <td>0.757576</td>\n",
       "      <td>0.785340</td>\n",
       "      <td>0.850549</td>\n",
       "    </tr>\n",
       "    <tr>\n",
       "      <th>205</th>\n",
       "      <td>0.824176</td>\n",
       "      <td>0.757576</td>\n",
       "      <td>0.789474</td>\n",
       "      <td>0.852210</td>\n",
       "    </tr>\n",
       "    <tr>\n",
       "      <th>230</th>\n",
       "      <td>0.828729</td>\n",
       "      <td>0.757576</td>\n",
       "      <td>0.791557</td>\n",
       "      <td>0.853040</td>\n",
       "    </tr>\n",
       "    <tr>\n",
       "      <th>255</th>\n",
       "      <td>0.825137</td>\n",
       "      <td>0.762626</td>\n",
       "      <td>0.792651</td>\n",
       "      <td>0.854735</td>\n",
       "    </tr>\n",
       "    <tr>\n",
       "      <th>280</th>\n",
       "      <td>0.820652</td>\n",
       "      <td>0.762626</td>\n",
       "      <td>0.790576</td>\n",
       "      <td>0.853904</td>\n",
       "    </tr>\n",
       "    <tr>\n",
       "      <th>305</th>\n",
       "      <td>0.813830</td>\n",
       "      <td>0.772727</td>\n",
       "      <td>0.792746</td>\n",
       "      <td>0.857294</td>\n",
       "    </tr>\n",
       "    <tr>\n",
       "      <th>330</th>\n",
       "      <td>0.816216</td>\n",
       "      <td>0.762626</td>\n",
       "      <td>0.788512</td>\n",
       "      <td>0.853074</td>\n",
       "    </tr>\n",
       "    <tr>\n",
       "      <th>355</th>\n",
       "      <td>0.811828</td>\n",
       "      <td>0.762626</td>\n",
       "      <td>0.786458</td>\n",
       "      <td>0.852243</td>\n",
       "    </tr>\n",
       "    <tr>\n",
       "      <th>380</th>\n",
       "      <td>0.811828</td>\n",
       "      <td>0.762626</td>\n",
       "      <td>0.786458</td>\n",
       "      <td>0.852243</td>\n",
       "    </tr>\n",
       "    <tr>\n",
       "      <th>405</th>\n",
       "      <td>0.811828</td>\n",
       "      <td>0.762626</td>\n",
       "      <td>0.786458</td>\n",
       "      <td>0.852243</td>\n",
       "    </tr>\n",
       "    <tr>\n",
       "      <th>430</th>\n",
       "      <td>0.811828</td>\n",
       "      <td>0.762626</td>\n",
       "      <td>0.786458</td>\n",
       "      <td>0.852243</td>\n",
       "    </tr>\n",
       "    <tr>\n",
       "      <th>455</th>\n",
       "      <td>0.807487</td>\n",
       "      <td>0.762626</td>\n",
       "      <td>0.784416</td>\n",
       "      <td>0.851413</td>\n",
       "    </tr>\n",
       "    <tr>\n",
       "      <th>480</th>\n",
       "      <td>0.808511</td>\n",
       "      <td>0.767677</td>\n",
       "      <td>0.787565</td>\n",
       "      <td>0.853938</td>\n",
       "    </tr>\n",
       "  </tbody>\n",
       "</table>\n",
       "</div>"
      ],
      "text/plain": [
       "              Precision    Recall        F1   Roc_auc\n",
       "n_estimators                                         \n",
       "5              0.769231  0.757576  0.763359  0.841412\n",
       "30             0.809783  0.752525  0.780105  0.847193\n",
       "55             0.813830  0.772727  0.792746  0.857294\n",
       "80             0.822581  0.772727  0.796875  0.858955\n",
       "105            0.816216  0.762626  0.788512  0.853074\n",
       "130            0.823529  0.777778  0.800000  0.861480\n",
       "155            0.823529  0.777778  0.800000  0.861480\n",
       "180            0.815217  0.757576  0.785340  0.850549\n",
       "205            0.824176  0.757576  0.789474  0.852210\n",
       "230            0.828729  0.757576  0.791557  0.853040\n",
       "255            0.825137  0.762626  0.792651  0.854735\n",
       "280            0.820652  0.762626  0.790576  0.853904\n",
       "305            0.813830  0.772727  0.792746  0.857294\n",
       "330            0.816216  0.762626  0.788512  0.853074\n",
       "355            0.811828  0.762626  0.786458  0.852243\n",
       "380            0.811828  0.762626  0.786458  0.852243\n",
       "405            0.811828  0.762626  0.786458  0.852243\n",
       "430            0.811828  0.762626  0.786458  0.852243\n",
       "455            0.807487  0.762626  0.784416  0.851413\n",
       "480            0.808511  0.767677  0.787565  0.853938"
      ]
     },
     "execution_count": 26,
     "metadata": {},
     "output_type": "execute_result"
    }
   ],
   "source": [
    "frame"
   ]
  },
  {
   "cell_type": "code",
   "execution_count": 27,
   "metadata": {},
   "outputs": [
    {
     "data": {
      "image/png": "[encoded data removed]",
      "text/plain": [
       "<Figure size 864x576 with 1 Axes>"
      ]
     },
     "metadata": {
      "needs_background": "light"
     },
     "output_type": "display_data"
    }
   ],
   "source": [
    "frame.plot(figsize=(12,8), grid=True, title='Метрики модели RandomForestClassifier')\n",
    "plt.xticks(range(5,500,25));"
   ]
  },
  {
   "cell_type": "markdown",
   "metadata": {},
   "source": [
    "c n_estimators = 155 модель показывает хорошие результаты в Precision и Recall и ROC_AUC, дальше хоть и растет Precision но сильно падает F1 и Recall. Думаю что 155 - норм, к тому же лучше чем логистическая регрессия"
   ]
  },
  {
   "cell_type": "code",
   "execution_count": 28,
   "metadata": {},
   "outputs": [
    {
     "name": "stdout",
     "output_type": "stream",
     "text": [
      "Precision: 0.82\n",
      "Recall: 0.78\n",
      "F1: 0.80\n",
      "ROC_AUC: 0.86\n"
     ]
    }
   ],
   "source": [
    "rf_model = RandomForestClassifier(n_estimators = 155, random_state = 42) \n",
    "rf_model.fit(X_train, y_train)\n",
    "rf_predictions = rf_model.predict(X_test) \n",
    "rf_probabilities = rf_model.predict_proba(X_test)[:,1]\n",
    "print('Precision: {:.2f}'.format(precision_score(y_test, rf_predictions)))\n",
    "print('Recall: {:.2f}'.format(recall_score(y_test, rf_predictions)))\n",
    "print('F1: {:.2f}'.format(f1_score(y_test, rf_predictions)))\n",
    "print('ROC_AUC: {:.2f}'.format(roc_auc_score(y_test, rf_predictions)))"
   ]
  },
  {
   "cell_type": "code",
   "execution_count": 29,
   "metadata": {},
   "outputs": [],
   "source": [
    "roc_auc_dict.update({'rf_model': roc_auc_score(y_test, rf_predictions)})"
   ]
  },
  {
   "cell_type": "markdown",
   "metadata": {},
   "source": [
    "## В качестве факультатива попробуем Доп модели и методы"
   ]
  },
  {
   "cell_type": "markdown",
   "metadata": {},
   "source": [
    "В качестве метрики качества будем использовать AUC-ROC, так как в рамках данной задачи, стоит определить людей которые с высокой вероятностью покинут организацию, для дальнейших действий по предотращению"
   ]
  },
  {
   "cell_type": "markdown",
   "metadata": {},
   "source": [
    "### Метод K-Nearest Neighbors (K ближайших соседей)"
   ]
  },
  {
   "cell_type": "code",
   "execution_count": 30,
   "metadata": {},
   "outputs": [],
   "source": [
    "roc_auc_knn = -1\n",
    "neighbors = 0\n",
    "for neighbors in range(1, 100):\n",
    "    knn = KNeighborsClassifier(n_neighbors=neighbors).fit(X_train, y_train)\n",
    "    y_pred = knn.predict_proba(X_test)\n",
    "    roc_auc_value = roc_auc_score(y_test, y_pred[:, 1])\n",
    "    if roc_auc_value > roc_auc_knn:\n",
    "        roc_auc_knn = roc_auc_value\n",
    "        neighbor = neighbors\n",
    "\n",
    "roc_auc_dict.update({'kNN': roc_auc_knn})"
   ]
  },
  {
   "cell_type": "code",
   "execution_count": 31,
   "metadata": {},
   "outputs": [
    {
     "data": {
      "image/png": "[encoded data removed]",
      "text/plain": [
       "<Figure size 432x288 with 1 Axes>"
      ]
     },
     "metadata": {
      "needs_background": "light"
     },
     "output_type": "display_data"
    }
   ],
   "source": [
    "probas = KNeighborsClassifier(n_neighbors=neighbor).fit(X_train, y_train).predict_proba(X_test)\n",
    "fpr, tpr, _ = roc_curve(y_test, probas[:, 1])\n",
    "auc = roc_auc_score(y_test, probas[:, 1])\n",
    "plt.plot(fpr, tpr, label=\"auc=\" + str(auc))\n",
    "plt.legend(loc=4);"
   ]
  },
  {
   "cell_type": "markdown",
   "metadata": {},
   "source": [
    "### Наивный байесовский классификатор (GaussianNB)"
   ]
  },
  {
   "cell_type": "code",
   "execution_count": 32,
   "metadata": {},
   "outputs": [],
   "source": [
    "nb = GaussianNB().fit(X_train, y_train)\n",
    "nb_pred = nb.predict_proba(X_test)\n",
    "roc_auc_gnb = roc_auc_score(y_test, nb_pred[:, 1])\n",
    "\n",
    "roc_auc_dict.update({'GaussionNB': roc_auc_gnb})"
   ]
  },
  {
   "cell_type": "code",
   "execution_count": 33,
   "metadata": {},
   "outputs": [
    {
     "data": {
      "image/png": "[encoded data removed]",
      "text/plain": [
       "<Figure size 432x288 with 1 Axes>"
      ]
     },
     "metadata": {
      "needs_background": "light"
     },
     "output_type": "display_data"
    }
   ],
   "source": [
    "probas = GaussianNB().fit(X_train, y_train).predict_proba(X_test)\n",
    "fpr, tpr, _ = roc_curve(y_test, probas[:, 1])\n",
    "auc = roc_auc_score(y_test, probas[:, 1])\n",
    "plt.plot(fpr, tpr, label=\"auc=\" + str(auc))\n",
    "plt.legend(loc=4);"
   ]
  },
  {
   "cell_type": "markdown",
   "metadata": {},
   "source": [
    "### Деревья решений (DecisionTreeClassifier)"
   ]
  },
  {
   "cell_type": "code",
   "execution_count": 34,
   "metadata": {},
   "outputs": [],
   "source": [
    "roc_auc_dtc = -1\n",
    "max_depths = 0\n",
    "for max_d in range(1, 100):\n",
    "    dtc_model = DecisionTreeClassifier(max_depth=max_d, random_state=42).fit(X_train, y_train)\n",
    "    dtc_predict = dtc_model.predict_proba(X_test)\n",
    "    roc_auc_value = roc_auc_score(y_test, dtc_predict[:, 1])\n",
    "    if roc_auc_value > roc_auc_dtc:\n",
    "        roc_auc_dtc = roc_auc_value\n",
    "        max_depths = max_d\n",
    "\n",
    "roc_auc_dict.update({'DecisionTreeClassifier': roc_auc_dtc})"
   ]
  },
  {
   "cell_type": "code",
   "execution_count": 35,
   "metadata": {},
   "outputs": [
    {
     "data": {
      "image/png": "[encoded data removed]",
      "text/plain": [
       "<Figure size 432x288 with 1 Axes>"
      ]
     },
     "metadata": {
      "needs_background": "light"
     },
     "output_type": "display_data"
    }
   ],
   "source": [
    "probas = DecisionTreeClassifier(max_depth=max_depths, random_state=17).fit(X_train, y_train).predict_proba(X_test)\n",
    "fpr, tpr, _ = roc_curve(y_test, probas[:, 1])\n",
    "auc = roc_auc_score(y_test, probas[:, 1])\n",
    "plt.plot(fpr, tpr, label=\"auc=\" + str(auc))\n",
    "plt.legend(loc=4);"
   ]
  },
  {
   "cell_type": "markdown",
   "metadata": {},
   "source": [
    "### GridSearch (делается долго)"
   ]
  },
  {
   "cell_type": "code",
   "execution_count": 36,
   "metadata": {},
   "outputs": [],
   "source": [
    "knn_params = {'n_neighbors': range(1, 50)}\n",
    "gnb_params = {}\n",
    "dtc_params = {'max_depth': range(1, 100), 'max_features': range(1, 10)}\n",
    "\n",
    "skf = StratifiedKFold(n_splits=5, random_state=42)\n",
    "\n",
    "knn_gridsearch = GridSearchCV(KNeighborsClassifier(), knn_params, scoring='roc_auc', cv=skf)\n",
    "gnb_gridsearch = GridSearchCV(GaussianNB(), gnb_params, scoring='roc_auc', cv=skf)\n",
    "dtc_gridsearch = GridSearchCV(DecisionTreeClassifier(random_state=42), dtc_params, scoring='roc_auc', cv=skf)\n",
    "\n",
    "models = [knn_gridsearch, gnb_gridsearch, dtc_gridsearch]"
   ]
  },
  {
   "cell_type": "code",
   "execution_count": 37,
   "metadata": {},
   "outputs": [
    {
     "name": "stdout",
     "output_type": "stream",
     "text": [
      "GridSearchCV(cv=StratifiedKFold(n_splits=5, random_state=42, shuffle=False),\n",
      "             estimator=KNeighborsClassifier(),\n",
      "             param_grid={'n_neighbors': range(1, 50)}, scoring='roc_auc')\n",
      "GridSearchCV(cv=StratifiedKFold(n_splits=5, random_state=42, shuffle=False),\n",
      "             estimator=GaussianNB(), param_grid={}, scoring='roc_auc')\n",
      "GridSearchCV(cv=StratifiedKFold(n_splits=5, random_state=42, shuffle=False),\n",
      "             estimator=DecisionTreeClassifier(random_state=42),\n",
      "             param_grid={'max_depth': range(1, 100),\n",
      "                         'max_features': range(1, 10)},\n",
      "             scoring='roc_auc')\n"
     ]
    }
   ],
   "source": [
    "for model in models:\n",
    "    print(model)\n",
    "    model.fit(X_train, y_train)\n",
    "    model_predict = model.predict_proba(X_test)\n",
    "    roc_auc_dict.update({'GridSearchCV({})'.format(str(model.estimator).split(\"(\")[0]): roc_auc_score(y_test, model_predict[:, 1])})"
   ]
  },
  {
   "cell_type": "markdown",
   "metadata": {},
   "source": [
    "### Boosting ((делается очень долго, запeскать на свой страх и риск )) )"
   ]
  },
  {
   "cell_type": "code",
   "execution_count": null,
   "metadata": {},
   "outputs": [],
   "source": [
    "# Долго делается\n",
    "gbc_params = {'learning_rate': np.arange(0.1, 0.6, 0.01)}\n",
    "\n",
    "gbc_gs = GridSearchCV(GradientBoostingClassifier(), gbc_params, scoring='roc_auc', cv=skf)\n",
    "\n",
    "gbc_model = gbc_gs.fit(X_train, y_train)\n",
    "gbc_pred_proba = gbc_model.predict_proba(X_test)\n",
    "roc_auc_dict.update({'GridSearchCV(GradientBoostingClassifier)': roc_auc_score(y_test, gbc_pred_proba[:, 1])})"
   ]
  },
  {
   "cell_type": "code",
   "execution_count": 47,
   "metadata": {},
   "outputs": [
    {
     "name": "stdout",
     "output_type": "stream",
     "text": [
      "model_log ее ROC_AUC: 0.8599\n",
      "rf_model ее ROC_AUC: 0.8615\n",
      "kNN ее ROC_AUC: 0.9252\n",
      "GaussionNB ее ROC_AUC: 0.9446\n",
      "DecisionTreeClassifier ее ROC_AUC: 0.9209\n",
      "GridSearchCV(KNeighborsClassifier) ее ROC_AUC: 0.9252\n",
      "GridSearchCV(GaussianNB) ее ROC_AUC: 0.9446\n",
      "GridSearchCV(DecisionTreeClassifier) ее ROC_AUC: 0.9073\n",
      "GridSearchCV(GradientBoostingClassifier) ее ROC_AUC: 0.9551\n"
     ]
    }
   ],
   "source": [
    "for model, roc_auc_v in roc_auc_dict.items():\n",
    "    print(f'{model} ее ROC_AUC: {round(roc_auc_v,4)}')"
   ]
  },
  {
   "cell_type": "code",
   "execution_count": 40,
   "metadata": {},
   "outputs": [
    {
     "name": "stdout",
     "output_type": "stream",
     "text": [
      "Лучшая модель: GridSearchCV(GradientBoostingClassifier) c  ROC_AUC = 0.95509916440149\n"
     ]
    }
   ],
   "source": [
    "roc_auc = 0\n",
    "best_model = ''\n",
    "for model, roc_auc_v in roc_auc_dict.items():\n",
    "    if roc_auc_v > roc_auc:\n",
    "        roc_auc = roc_auc_v\n",
    "        best_model = model\n",
    "print(f'Лучшая модель: {model} c  ROC_AUC = {roc_auc}' )"
   ]
  },
  {
   "cell_type": "code",
   "execution_count": 44,
   "metadata": {},
   "outputs": [
    {
     "name": "stdout",
     "output_type": "stream",
     "text": [
      "Precision: 0.80\n",
      "Recall: 0.76\n",
      "F1: 0.78\n",
      "ROC_AUC: 0.96\n"
     ]
    }
   ],
   "source": [
    "gbc_pred = gbc_model.predict(X_test)\n",
    "print('Precision: {:.2f}'.format(precision_score(y_test, gbc_pred)))\n",
    "print('Recall: {:.2f}'.format(recall_score(y_test, gbc_pred)))\n",
    "print('F1: {:.2f}'.format(f1_score(y_test, gbc_pred)))\n",
    "print('ROC_AUC: {:.2f}'.format(roc_auc_score(y_test, gbc_pred_proba[:, 1])))"
   ]
  },
  {
   "cell_type": "markdown",
   "metadata": {},
   "source": [
    "Сделаем вид будьто у нас есть датасет без разметки )\n",
    "Накинем на него шансы на отток"
   ]
  },
  {
   "cell_type": "code",
   "execution_count": 48,
   "metadata": {},
   "outputs": [],
   "source": [
    "df_test = data.copy()"
   ]
  },
  {
   "cell_type": "code",
   "execution_count": 49,
   "metadata": {},
   "outputs": [
    {
     "data": {
      "text/html": [
       "<div>\n",
       "<style scoped>\n",
       "    .dataframe tbody tr th:only-of-type {\n",
       "        vertical-align: middle;\n",
       "    }\n",
       "\n",
       "    .dataframe tbody tr th {\n",
       "        vertical-align: top;\n",
       "    }\n",
       "\n",
       "    .dataframe thead th {\n",
       "        text-align: right;\n",
       "    }\n",
       "</style>\n",
       "<table border=\"1\" class=\"dataframe\">\n",
       "  <thead>\n",
       "    <tr style=\"text-align: right;\">\n",
       "      <th></th>\n",
       "      <th>gender</th>\n",
       "      <th>Near_Location</th>\n",
       "      <th>Partner</th>\n",
       "      <th>Promo_friends</th>\n",
       "      <th>Phone</th>\n",
       "      <th>Contract_period</th>\n",
       "      <th>Group_visits</th>\n",
       "      <th>Age</th>\n",
       "      <th>Avg_additional_charges_total</th>\n",
       "      <th>Lifetime</th>\n",
       "      <th>Avg_class_frequency_current_month</th>\n",
       "      <th>Churn</th>\n",
       "    </tr>\n",
       "  </thead>\n",
       "  <tbody>\n",
       "    <tr>\n",
       "      <th>0</th>\n",
       "      <td>1</td>\n",
       "      <td>1</td>\n",
       "      <td>1</td>\n",
       "      <td>1</td>\n",
       "      <td>0</td>\n",
       "      <td>6</td>\n",
       "      <td>1</td>\n",
       "      <td>29</td>\n",
       "      <td>14.227470</td>\n",
       "      <td>3</td>\n",
       "      <td>0.000000</td>\n",
       "      <td>0</td>\n",
       "    </tr>\n",
       "    <tr>\n",
       "      <th>1</th>\n",
       "      <td>0</td>\n",
       "      <td>1</td>\n",
       "      <td>0</td>\n",
       "      <td>0</td>\n",
       "      <td>1</td>\n",
       "      <td>12</td>\n",
       "      <td>1</td>\n",
       "      <td>31</td>\n",
       "      <td>113.202938</td>\n",
       "      <td>7</td>\n",
       "      <td>1.910244</td>\n",
       "      <td>0</td>\n",
       "    </tr>\n",
       "    <tr>\n",
       "      <th>2</th>\n",
       "      <td>0</td>\n",
       "      <td>1</td>\n",
       "      <td>1</td>\n",
       "      <td>0</td>\n",
       "      <td>1</td>\n",
       "      <td>1</td>\n",
       "      <td>0</td>\n",
       "      <td>28</td>\n",
       "      <td>129.448479</td>\n",
       "      <td>2</td>\n",
       "      <td>1.736502</td>\n",
       "      <td>0</td>\n",
       "    </tr>\n",
       "    <tr>\n",
       "      <th>3</th>\n",
       "      <td>0</td>\n",
       "      <td>1</td>\n",
       "      <td>1</td>\n",
       "      <td>1</td>\n",
       "      <td>1</td>\n",
       "      <td>12</td>\n",
       "      <td>1</td>\n",
       "      <td>33</td>\n",
       "      <td>62.669863</td>\n",
       "      <td>2</td>\n",
       "      <td>3.357215</td>\n",
       "      <td>0</td>\n",
       "    </tr>\n",
       "    <tr>\n",
       "      <th>4</th>\n",
       "      <td>1</td>\n",
       "      <td>1</td>\n",
       "      <td>1</td>\n",
       "      <td>1</td>\n",
       "      <td>1</td>\n",
       "      <td>1</td>\n",
       "      <td>0</td>\n",
       "      <td>26</td>\n",
       "      <td>198.362265</td>\n",
       "      <td>3</td>\n",
       "      <td>1.120078</td>\n",
       "      <td>0</td>\n",
       "    </tr>\n",
       "    <tr>\n",
       "      <th>...</th>\n",
       "      <td>...</td>\n",
       "      <td>...</td>\n",
       "      <td>...</td>\n",
       "      <td>...</td>\n",
       "      <td>...</td>\n",
       "      <td>...</td>\n",
       "      <td>...</td>\n",
       "      <td>...</td>\n",
       "      <td>...</td>\n",
       "      <td>...</td>\n",
       "      <td>...</td>\n",
       "      <td>...</td>\n",
       "    </tr>\n",
       "    <tr>\n",
       "      <th>3995</th>\n",
       "      <td>1</td>\n",
       "      <td>1</td>\n",
       "      <td>1</td>\n",
       "      <td>0</td>\n",
       "      <td>1</td>\n",
       "      <td>12</td>\n",
       "      <td>0</td>\n",
       "      <td>33</td>\n",
       "      <td>2.406023</td>\n",
       "      <td>8</td>\n",
       "      <td>2.349070</td>\n",
       "      <td>0</td>\n",
       "    </tr>\n",
       "    <tr>\n",
       "      <th>3996</th>\n",
       "      <td>0</td>\n",
       "      <td>1</td>\n",
       "      <td>0</td>\n",
       "      <td>0</td>\n",
       "      <td>1</td>\n",
       "      <td>1</td>\n",
       "      <td>1</td>\n",
       "      <td>29</td>\n",
       "      <td>68.883764</td>\n",
       "      <td>1</td>\n",
       "      <td>0.292859</td>\n",
       "      <td>1</td>\n",
       "    </tr>\n",
       "    <tr>\n",
       "      <th>3997</th>\n",
       "      <td>1</td>\n",
       "      <td>1</td>\n",
       "      <td>1</td>\n",
       "      <td>1</td>\n",
       "      <td>1</td>\n",
       "      <td>12</td>\n",
       "      <td>0</td>\n",
       "      <td>28</td>\n",
       "      <td>78.250542</td>\n",
       "      <td>2</td>\n",
       "      <td>2.831439</td>\n",
       "      <td>0</td>\n",
       "    </tr>\n",
       "    <tr>\n",
       "      <th>3998</th>\n",
       "      <td>0</td>\n",
       "      <td>1</td>\n",
       "      <td>1</td>\n",
       "      <td>1</td>\n",
       "      <td>1</td>\n",
       "      <td>6</td>\n",
       "      <td>0</td>\n",
       "      <td>32</td>\n",
       "      <td>61.912657</td>\n",
       "      <td>3</td>\n",
       "      <td>1.596237</td>\n",
       "      <td>0</td>\n",
       "    </tr>\n",
       "    <tr>\n",
       "      <th>3999</th>\n",
       "      <td>1</td>\n",
       "      <td>0</td>\n",
       "      <td>1</td>\n",
       "      <td>0</td>\n",
       "      <td>0</td>\n",
       "      <td>12</td>\n",
       "      <td>1</td>\n",
       "      <td>30</td>\n",
       "      <td>178.861814</td>\n",
       "      <td>1</td>\n",
       "      <td>1.035270</td>\n",
       "      <td>0</td>\n",
       "    </tr>\n",
       "  </tbody>\n",
       "</table>\n",
       "<p>4000 rows × 12 columns</p>\n",
       "</div>"
      ],
      "text/plain": [
       "      gender  Near_Location  Partner  Promo_friends  Phone  Contract_period  \\\n",
       "0          1              1        1              1      0                6   \n",
       "1          0              1        0              0      1               12   \n",
       "2          0              1        1              0      1                1   \n",
       "3          0              1        1              1      1               12   \n",
       "4          1              1        1              1      1                1   \n",
       "...      ...            ...      ...            ...    ...              ...   \n",
       "3995       1              1        1              0      1               12   \n",
       "3996       0              1        0              0      1                1   \n",
       "3997       1              1        1              1      1               12   \n",
       "3998       0              1        1              1      1                6   \n",
       "3999       1              0        1              0      0               12   \n",
       "\n",
       "      Group_visits  Age  Avg_additional_charges_total  Lifetime  \\\n",
       "0                1   29                     14.227470         3   \n",
       "1                1   31                    113.202938         7   \n",
       "2                0   28                    129.448479         2   \n",
       "3                1   33                     62.669863         2   \n",
       "4                0   26                    198.362265         3   \n",
       "...            ...  ...                           ...       ...   \n",
       "3995             0   33                      2.406023         8   \n",
       "3996             1   29                     68.883764         1   \n",
       "3997             0   28                     78.250542         2   \n",
       "3998             0   32                     61.912657         3   \n",
       "3999             1   30                    178.861814         1   \n",
       "\n",
       "      Avg_class_frequency_current_month  Churn  \n",
       "0                              0.000000      0  \n",
       "1                              1.910244      0  \n",
       "2                              1.736502      0  \n",
       "3                              3.357215      0  \n",
       "4                              1.120078      0  \n",
       "...                                 ...    ...  \n",
       "3995                           2.349070      0  \n",
       "3996                           0.292859      1  \n",
       "3997                           2.831439      0  \n",
       "3998                           1.596237      0  \n",
       "3999                           1.035270      0  \n",
       "\n",
       "[4000 rows x 12 columns]"
      ]
     },
     "execution_count": 49,
     "metadata": {},
     "output_type": "execute_result"
    }
   ],
   "source": [
    "df_test"
   ]
  },
  {
   "cell_type": "code",
   "execution_count": 50,
   "metadata": {},
   "outputs": [],
   "source": [
    "proba = gbc_model.predict_proba(df_test.drop('Churn', axis=1))"
   ]
  },
  {
   "cell_type": "code",
   "execution_count": 51,
   "metadata": {},
   "outputs": [],
   "source": [
    "prob_0 = []\n",
    "prob_1 = []\n",
    "for prob in proba:\n",
    "    prob_0.append(prob[0]*100)\n",
    "    prob_1.append(prob[1]*100)"
   ]
  },
  {
   "cell_type": "code",
   "execution_count": 52,
   "metadata": {},
   "outputs": [],
   "source": [
    "df_test['%_No_Churn'] = prob_0\n",
    "df_test['%_To_Churn'] = prob_1"
   ]
  },
  {
   "cell_type": "code",
   "execution_count": 53,
   "metadata": {},
   "outputs": [
    {
     "data": {
      "text/html": [
       "<div>\n",
       "<style scoped>\n",
       "    .dataframe tbody tr th:only-of-type {\n",
       "        vertical-align: middle;\n",
       "    }\n",
       "\n",
       "    .dataframe tbody tr th {\n",
       "        vertical-align: top;\n",
       "    }\n",
       "\n",
       "    .dataframe thead th {\n",
       "        text-align: right;\n",
       "    }\n",
       "</style>\n",
       "<table border=\"1\" class=\"dataframe\">\n",
       "  <thead>\n",
       "    <tr style=\"text-align: right;\">\n",
       "      <th></th>\n",
       "      <th>Churn</th>\n",
       "      <th>%_No_Churn</th>\n",
       "      <th>%_To_Churn</th>\n",
       "    </tr>\n",
       "  </thead>\n",
       "  <tbody>\n",
       "    <tr>\n",
       "      <th>3371</th>\n",
       "      <td>1</td>\n",
       "      <td>0.526501</td>\n",
       "      <td>99.473499</td>\n",
       "    </tr>\n",
       "    <tr>\n",
       "      <th>3278</th>\n",
       "      <td>1</td>\n",
       "      <td>0.580263</td>\n",
       "      <td>99.419737</td>\n",
       "    </tr>\n",
       "    <tr>\n",
       "      <th>3579</th>\n",
       "      <td>1</td>\n",
       "      <td>0.638602</td>\n",
       "      <td>99.361398</td>\n",
       "    </tr>\n",
       "    <tr>\n",
       "      <th>725</th>\n",
       "      <td>1</td>\n",
       "      <td>0.652732</td>\n",
       "      <td>99.347268</td>\n",
       "    </tr>\n",
       "    <tr>\n",
       "      <th>1288</th>\n",
       "      <td>1</td>\n",
       "      <td>0.700807</td>\n",
       "      <td>99.299193</td>\n",
       "    </tr>\n",
       "    <tr>\n",
       "      <th>...</th>\n",
       "      <td>...</td>\n",
       "      <td>...</td>\n",
       "      <td>...</td>\n",
       "    </tr>\n",
       "    <tr>\n",
       "      <th>2827</th>\n",
       "      <td>0</td>\n",
       "      <td>99.809970</td>\n",
       "      <td>0.190030</td>\n",
       "    </tr>\n",
       "    <tr>\n",
       "      <th>3283</th>\n",
       "      <td>0</td>\n",
       "      <td>99.817340</td>\n",
       "      <td>0.182660</td>\n",
       "    </tr>\n",
       "    <tr>\n",
       "      <th>1830</th>\n",
       "      <td>0</td>\n",
       "      <td>99.831882</td>\n",
       "      <td>0.168118</td>\n",
       "    </tr>\n",
       "    <tr>\n",
       "      <th>3324</th>\n",
       "      <td>0</td>\n",
       "      <td>99.833698</td>\n",
       "      <td>0.166302</td>\n",
       "    </tr>\n",
       "    <tr>\n",
       "      <th>277</th>\n",
       "      <td>0</td>\n",
       "      <td>99.834284</td>\n",
       "      <td>0.165716</td>\n",
       "    </tr>\n",
       "  </tbody>\n",
       "</table>\n",
       "<p>4000 rows × 3 columns</p>\n",
       "</div>"
      ],
      "text/plain": [
       "      Churn  %_No_Churn  %_To_Churn\n",
       "3371      1    0.526501   99.473499\n",
       "3278      1    0.580263   99.419737\n",
       "3579      1    0.638602   99.361398\n",
       "725       1    0.652732   99.347268\n",
       "1288      1    0.700807   99.299193\n",
       "...     ...         ...         ...\n",
       "2827      0   99.809970    0.190030\n",
       "3283      0   99.817340    0.182660\n",
       "1830      0   99.831882    0.168118\n",
       "3324      0   99.833698    0.166302\n",
       "277       0   99.834284    0.165716\n",
       "\n",
       "[4000 rows x 3 columns]"
      ]
     },
     "execution_count": 53,
     "metadata": {},
     "output_type": "execute_result"
    }
   ],
   "source": [
    "df_test[['Churn','%_No_Churn', '%_To_Churn']].sort_values(by='%_To_Churn', ascending=False)"
   ]
  },
  {
   "cell_type": "markdown",
   "metadata": {},
   "source": [
    "И отдадим этот список менеджерам, скажем что эти клиенты готовятся нас покинуть, срочно принимайте меры )"
   ]
  },
  {
   "cell_type": "markdown",
   "metadata": {},
   "source": [
    "В качестве меры удержания могу предложить следующее:\n",
    "- Опрос клиентов с целью выявления предпочтений, как удалось установить, одним из факторов удержания являются групповые программы, возможно некоторые клиенты не находят то что ищут, либо им не подходит время проведения групповых мероприятий\n",
    "- Так же данный опрос может выявить потребности в дополнительных платных услугах, ведь те кто тратит больше денег на доп услуги, меньше подвержены оттоку.\n",
    "- Возможно стоить предоставить скидку на более длительные абонементы, как способ дополнительного удержания\n",
    "- В качестве дополнительных мер по удержанию, предлагаю осуществлять прозвон с целью уточнения причин редкого посещения, возможно в ходе разговора можно выявить дополнительные потребности или причину недовольства.\n",
    "- Ну и классические  скидки, соревнавания, розыгрыши и дополнительные мотивационные программы, возможно так же повысят лояльность клиента к компании."
   ]
  },
  {
   "cell_type": "markdown",
   "metadata": {},
   "source": [
    "# Кластеризация клиентов"
   ]
  },
  {
   "cell_type": "markdown",
   "metadata": {},
   "source": [
    "## Стандартизируем данные"
   ]
  },
  {
   "cell_type": "code",
   "execution_count": 59,
   "metadata": {},
   "outputs": [
    {
     "data": {
      "text/plain": [
       "array([[ 0.97970588,  0.42788074,  1.02686062, ..., -1.37753121,\n",
       "        -0.19332863, -1.67847198],\n",
       "       [-1.0207145 ,  0.42788074, -0.973842  , ..., -0.35021325,\n",
       "         0.87368001,  0.1360137 ],\n",
       "       [-1.0207145 ,  0.42788074,  1.02686062, ..., -0.1815923 ,\n",
       "        -0.46008079, -0.02901851],\n",
       "       ...,\n",
       "       [ 0.97970588,  0.42788074,  1.02686062, ..., -0.71300239,\n",
       "        -0.46008079,  1.01103141],\n",
       "       [-1.0207145 ,  0.42788074,  1.02686062, ..., -0.88258181,\n",
       "        -0.19332863, -0.16225246],\n",
       "       [ 0.97970588, -2.33709981,  1.02686062, ...,  0.33129445,\n",
       "        -0.72683295, -0.69509885]])"
      ]
     },
     "execution_count": 59,
     "metadata": {},
     "output_type": "execute_result"
    }
   ],
   "source": [
    "x_sc = StandardScaler().fit_transform(X)"
   ]
  },
  {
   "cell_type": "markdown",
   "metadata": {},
   "source": [
    "## Построим матрицу расстояний функцией linkage() на стандартизованной матрице признаков и нарисуем дендрограмму."
   ]
  },
  {
   "cell_type": "code",
   "execution_count": 62,
   "metadata": {},
   "outputs": [],
   "source": [
    "linked = linkage(x_sc, method = 'ward')"
   ]
  },
  {
   "cell_type": "code",
   "execution_count": 63,
   "metadata": {},
   "outputs": [
    {
     "data": {
      "image/png": "[encoded data removed]",
      "text/plain": [
       "<Figure size 1152x648 with 1 Axes>"
      ]
     },
     "metadata": {
      "needs_background": "light"
     },
     "output_type": "display_data"
    }
   ],
   "source": [
    "plt.figure(figsize=(16, 9))  \n",
    "dendrogram(linked, orientation = 'top')\n",
    "plt.title('Кластеризация пользователей')\n",
    "plt.show()"
   ]
  },
  {
   "cell_type": "markdown",
   "metadata": {},
   "source": [
    "Вообще я вижу 4 кластера, судя по цветам, но фиолетовый кластер еще делиться на 2 крупных. В итоге получается 5 кластеров"
   ]
  },
  {
   "cell_type": "markdown",
   "metadata": {},
   "source": [
    "## Обучим модель кластеризации на основании алгоритма K-Means и спрогнозируем кластеры клиентов"
   ]
  },
  {
   "cell_type": "code",
   "execution_count": 66,
   "metadata": {},
   "outputs": [],
   "source": [
    "km = KMeans(n_clusters = 5)\n",
    "labels = km.fit_predict(x_sc)"
   ]
  },
  {
   "cell_type": "code",
   "execution_count": 69,
   "metadata": {},
   "outputs": [],
   "source": [
    "data['clasters'] = labels"
   ]
  },
  {
   "cell_type": "code",
   "execution_count": 71,
   "metadata": {},
   "outputs": [
    {
     "data": {
      "text/html": [
       "<div>\n",
       "<style scoped>\n",
       "    .dataframe tbody tr th:only-of-type {\n",
       "        vertical-align: middle;\n",
       "    }\n",
       "\n",
       "    .dataframe tbody tr th {\n",
       "        vertical-align: top;\n",
       "    }\n",
       "\n",
       "    .dataframe thead th {\n",
       "        text-align: right;\n",
       "    }\n",
       "</style>\n",
       "<table border=\"1\" class=\"dataframe\">\n",
       "  <thead>\n",
       "    <tr style=\"text-align: right;\">\n",
       "      <th></th>\n",
       "      <th>gender</th>\n",
       "      <th>Near_Location</th>\n",
       "      <th>Partner</th>\n",
       "      <th>Promo_friends</th>\n",
       "      <th>Phone</th>\n",
       "      <th>Contract_period</th>\n",
       "      <th>Group_visits</th>\n",
       "      <th>Age</th>\n",
       "      <th>Avg_additional_charges_total</th>\n",
       "      <th>Lifetime</th>\n",
       "      <th>Avg_class_frequency_current_month</th>\n",
       "      <th>Churn</th>\n",
       "      <th>clasters</th>\n",
       "    </tr>\n",
       "  </thead>\n",
       "  <tbody>\n",
       "    <tr>\n",
       "      <th>0</th>\n",
       "      <td>1</td>\n",
       "      <td>1</td>\n",
       "      <td>1</td>\n",
       "      <td>1</td>\n",
       "      <td>0</td>\n",
       "      <td>6</td>\n",
       "      <td>1</td>\n",
       "      <td>29</td>\n",
       "      <td>14.227470</td>\n",
       "      <td>3</td>\n",
       "      <td>0.000000</td>\n",
       "      <td>0</td>\n",
       "      <td>0</td>\n",
       "    </tr>\n",
       "    <tr>\n",
       "      <th>1</th>\n",
       "      <td>0</td>\n",
       "      <td>1</td>\n",
       "      <td>0</td>\n",
       "      <td>0</td>\n",
       "      <td>1</td>\n",
       "      <td>12</td>\n",
       "      <td>1</td>\n",
       "      <td>31</td>\n",
       "      <td>113.202938</td>\n",
       "      <td>7</td>\n",
       "      <td>1.910244</td>\n",
       "      <td>0</td>\n",
       "      <td>4</td>\n",
       "    </tr>\n",
       "    <tr>\n",
       "      <th>2</th>\n",
       "      <td>0</td>\n",
       "      <td>1</td>\n",
       "      <td>1</td>\n",
       "      <td>0</td>\n",
       "      <td>1</td>\n",
       "      <td>1</td>\n",
       "      <td>0</td>\n",
       "      <td>28</td>\n",
       "      <td>129.448479</td>\n",
       "      <td>2</td>\n",
       "      <td>1.736502</td>\n",
       "      <td>0</td>\n",
       "      <td>2</td>\n",
       "    </tr>\n",
       "    <tr>\n",
       "      <th>3</th>\n",
       "      <td>0</td>\n",
       "      <td>1</td>\n",
       "      <td>1</td>\n",
       "      <td>1</td>\n",
       "      <td>1</td>\n",
       "      <td>12</td>\n",
       "      <td>1</td>\n",
       "      <td>33</td>\n",
       "      <td>62.669863</td>\n",
       "      <td>2</td>\n",
       "      <td>3.357215</td>\n",
       "      <td>0</td>\n",
       "      <td>1</td>\n",
       "    </tr>\n",
       "    <tr>\n",
       "      <th>4</th>\n",
       "      <td>1</td>\n",
       "      <td>1</td>\n",
       "      <td>1</td>\n",
       "      <td>1</td>\n",
       "      <td>1</td>\n",
       "      <td>1</td>\n",
       "      <td>0</td>\n",
       "      <td>26</td>\n",
       "      <td>198.362265</td>\n",
       "      <td>3</td>\n",
       "      <td>1.120078</td>\n",
       "      <td>0</td>\n",
       "      <td>1</td>\n",
       "    </tr>\n",
       "  </tbody>\n",
       "</table>\n",
       "</div>"
      ],
      "text/plain": [
       "   gender  Near_Location  Partner  Promo_friends  Phone  Contract_period  \\\n",
       "0       1              1        1              1      0                6   \n",
       "1       0              1        0              0      1               12   \n",
       "2       0              1        1              0      1                1   \n",
       "3       0              1        1              1      1               12   \n",
       "4       1              1        1              1      1                1   \n",
       "\n",
       "   Group_visits  Age  Avg_additional_charges_total  Lifetime  \\\n",
       "0             1   29                     14.227470         3   \n",
       "1             1   31                    113.202938         7   \n",
       "2             0   28                    129.448479         2   \n",
       "3             1   33                     62.669863         2   \n",
       "4             0   26                    198.362265         3   \n",
       "\n",
       "   Avg_class_frequency_current_month  Churn  clasters  \n",
       "0                           0.000000      0         0  \n",
       "1                           1.910244      0         4  \n",
       "2                           1.736502      0         2  \n",
       "3                           3.357215      0         1  \n",
       "4                           1.120078      0         1  "
      ]
     },
     "execution_count": 71,
     "metadata": {},
     "output_type": "execute_result"
    }
   ],
   "source": [
    "data.head()"
   ]
  },
  {
   "cell_type": "markdown",
   "metadata": {},
   "source": [
    "## Посмотрим на средние значения признаков для кластеров. "
   ]
  },
  {
   "cell_type": "code",
   "execution_count": 72,
   "metadata": {},
   "outputs": [
    {
     "data": {
      "text/html": [
       "<div>\n",
       "<style scoped>\n",
       "    .dataframe tbody tr th:only-of-type {\n",
       "        vertical-align: middle;\n",
       "    }\n",
       "\n",
       "    .dataframe tbody tr th {\n",
       "        vertical-align: top;\n",
       "    }\n",
       "\n",
       "    .dataframe thead th {\n",
       "        text-align: right;\n",
       "    }\n",
       "</style>\n",
       "<table border=\"1\" class=\"dataframe\">\n",
       "  <thead>\n",
       "    <tr style=\"text-align: right;\">\n",
       "      <th></th>\n",
       "      <th>gender</th>\n",
       "      <th>Near_Location</th>\n",
       "      <th>Partner</th>\n",
       "      <th>Promo_friends</th>\n",
       "      <th>Phone</th>\n",
       "      <th>Contract_period</th>\n",
       "      <th>Group_visits</th>\n",
       "      <th>Age</th>\n",
       "      <th>Avg_additional_charges_total</th>\n",
       "      <th>Lifetime</th>\n",
       "      <th>Avg_class_frequency_current_month</th>\n",
       "      <th>Churn</th>\n",
       "    </tr>\n",
       "    <tr>\n",
       "      <th>clasters</th>\n",
       "      <th></th>\n",
       "      <th></th>\n",
       "      <th></th>\n",
       "      <th></th>\n",
       "      <th></th>\n",
       "      <th></th>\n",
       "      <th></th>\n",
       "      <th></th>\n",
       "      <th></th>\n",
       "      <th></th>\n",
       "      <th></th>\n",
       "      <th></th>\n",
       "    </tr>\n",
       "  </thead>\n",
       "  <tbody>\n",
       "    <tr>\n",
       "      <th>0</th>\n",
       "      <td>0.523316</td>\n",
       "      <td>0.862694</td>\n",
       "      <td>0.471503</td>\n",
       "      <td>0.305699</td>\n",
       "      <td>0.0</td>\n",
       "      <td>4.777202</td>\n",
       "      <td>0.427461</td>\n",
       "      <td>29.297927</td>\n",
       "      <td>144.208179</td>\n",
       "      <td>3.940415</td>\n",
       "      <td>1.723967</td>\n",
       "      <td>0.266839</td>\n",
       "    </tr>\n",
       "    <tr>\n",
       "      <th>1</th>\n",
       "      <td>0.492390</td>\n",
       "      <td>0.996419</td>\n",
       "      <td>0.957923</td>\n",
       "      <td>0.795882</td>\n",
       "      <td>1.0</td>\n",
       "      <td>8.213071</td>\n",
       "      <td>0.522829</td>\n",
       "      <td>29.717995</td>\n",
       "      <td>156.072148</td>\n",
       "      <td>4.315130</td>\n",
       "      <td>1.969399</td>\n",
       "      <td>0.076097</td>\n",
       "    </tr>\n",
       "    <tr>\n",
       "      <th>2</th>\n",
       "      <td>0.485514</td>\n",
       "      <td>1.000000</td>\n",
       "      <td>0.275724</td>\n",
       "      <td>0.119880</td>\n",
       "      <td>1.0</td>\n",
       "      <td>2.045954</td>\n",
       "      <td>0.258741</td>\n",
       "      <td>27.304695</td>\n",
       "      <td>117.198424</td>\n",
       "      <td>1.737263</td>\n",
       "      <td>1.096998</td>\n",
       "      <td>0.616384</td>\n",
       "    </tr>\n",
       "    <tr>\n",
       "      <th>3</th>\n",
       "      <td>0.499109</td>\n",
       "      <td>0.000000</td>\n",
       "      <td>0.490196</td>\n",
       "      <td>0.078431</td>\n",
       "      <td>1.0</td>\n",
       "      <td>3.042781</td>\n",
       "      <td>0.237077</td>\n",
       "      <td>28.711230</td>\n",
       "      <td>136.792957</td>\n",
       "      <td>3.024955</td>\n",
       "      <td>1.603110</td>\n",
       "      <td>0.401070</td>\n",
       "    </tr>\n",
       "    <tr>\n",
       "      <th>4</th>\n",
       "      <td>0.559358</td>\n",
       "      <td>0.998930</td>\n",
       "      <td>0.154011</td>\n",
       "      <td>0.067380</td>\n",
       "      <td>1.0</td>\n",
       "      <td>4.226738</td>\n",
       "      <td>0.543316</td>\n",
       "      <td>30.795722</td>\n",
       "      <td>175.103201</td>\n",
       "      <td>5.478075</td>\n",
       "      <td>2.358820</td>\n",
       "      <td>0.033155</td>\n",
       "    </tr>\n",
       "  </tbody>\n",
       "</table>\n",
       "</div>"
      ],
      "text/plain": [
       "            gender  Near_Location   Partner  Promo_friends  Phone  \\\n",
       "clasters                                                            \n",
       "0         0.523316       0.862694  0.471503       0.305699    0.0   \n",
       "1         0.492390       0.996419  0.957923       0.795882    1.0   \n",
       "2         0.485514       1.000000  0.275724       0.119880    1.0   \n",
       "3         0.499109       0.000000  0.490196       0.078431    1.0   \n",
       "4         0.559358       0.998930  0.154011       0.067380    1.0   \n",
       "\n",
       "          Contract_period  Group_visits        Age  \\\n",
       "clasters                                             \n",
       "0                4.777202      0.427461  29.297927   \n",
       "1                8.213071      0.522829  29.717995   \n",
       "2                2.045954      0.258741  27.304695   \n",
       "3                3.042781      0.237077  28.711230   \n",
       "4                4.226738      0.543316  30.795722   \n",
       "\n",
       "          Avg_additional_charges_total  Lifetime  \\\n",
       "clasters                                           \n",
       "0                           144.208179  3.940415   \n",
       "1                           156.072148  4.315130   \n",
       "2                           117.198424  1.737263   \n",
       "3                           136.792957  3.024955   \n",
       "4                           175.103201  5.478075   \n",
       "\n",
       "          Avg_class_frequency_current_month     Churn  \n",
       "clasters                                               \n",
       "0                                  1.723967  0.266839  \n",
       "1                                  1.969399  0.076097  \n",
       "2                                  1.096998  0.616384  \n",
       "3                                  1.603110  0.401070  \n",
       "4                                  2.358820  0.033155  "
      ]
     },
     "execution_count": 72,
     "metadata": {},
     "output_type": "execute_result"
    }
   ],
   "source": [
    "data.groupby('clasters').mean()"
   ]
  },
  {
   "cell_type": "markdown",
   "metadata": {},
   "source": [
    "Из того что сразу же бросается в глаза:\n",
    "- Кластер 0 - те кто не оставил контактные данные \n",
    "- Кластер 1 - это 100% клиенты от партнерских компаний и пришедшие по промо \"приведи друга\", обладают самым высоким средним сроком абонемента\n",
    "- Кластер 2 - обладают самым маленьким сроком абонемента и меньше всех в среднем тратят деньги на доп. услуги\n",
    "- Кластер 3 - Те, кто не живут или работают в районе фитнес центра\n",
    "- Кластер 4 - Самый высокий средний возраст, тратят больше всех денег на доп. услуги в среднем, имеют самый продолжительный лайфтайм\n",
    "\n",
    "Из \"Надежных\" кластеров можно выделить Кластер 4 - самый надежный, реже всех оттекают, за ним идет кластер 1.\n",
    "Самый ненадежный - Кластер 2, за ним следует Кластер 3.\n",
    "Кластер 0 так же имеет хорошие показатели \"надежности\" лишь 26% из них ушли."
   ]
  },
  {
   "cell_type": "markdown",
   "metadata": {},
   "source": [
    "## Построим распределения признаков для кластеров"
   ]
  },
  {
   "cell_type": "code",
   "execution_count": 88,
   "metadata": {},
   "outputs": [
    {
     "data": {
      "text/html": [
       "<div>\n",
       "<style scoped>\n",
       "    .dataframe tbody tr th:only-of-type {\n",
       "        vertical-align: middle;\n",
       "    }\n",
       "\n",
       "    .dataframe tbody tr th {\n",
       "        vertical-align: top;\n",
       "    }\n",
       "\n",
       "    .dataframe thead th {\n",
       "        text-align: right;\n",
       "    }\n",
       "</style>\n",
       "<table border=\"1\" class=\"dataframe\">\n",
       "  <thead>\n",
       "    <tr style=\"text-align: right;\">\n",
       "      <th></th>\n",
       "      <th>gender</th>\n",
       "      <th>Near_Location</th>\n",
       "      <th>Partner</th>\n",
       "      <th>Promo_friends</th>\n",
       "      <th>Phone</th>\n",
       "      <th>Contract_period</th>\n",
       "      <th>Group_visits</th>\n",
       "      <th>Age</th>\n",
       "      <th>Avg_additional_charges_total</th>\n",
       "      <th>Lifetime</th>\n",
       "      <th>Avg_class_frequency_current_month</th>\n",
       "      <th>Churn</th>\n",
       "      <th>clasters</th>\n",
       "    </tr>\n",
       "  </thead>\n",
       "  <tbody>\n",
       "    <tr>\n",
       "      <th>0</th>\n",
       "      <td>1</td>\n",
       "      <td>1</td>\n",
       "      <td>1</td>\n",
       "      <td>1</td>\n",
       "      <td>0</td>\n",
       "      <td>6</td>\n",
       "      <td>1</td>\n",
       "      <td>29</td>\n",
       "      <td>14.227470</td>\n",
       "      <td>3</td>\n",
       "      <td>0.000000</td>\n",
       "      <td>0</td>\n",
       "      <td>0</td>\n",
       "    </tr>\n",
       "    <tr>\n",
       "      <th>1</th>\n",
       "      <td>0</td>\n",
       "      <td>1</td>\n",
       "      <td>0</td>\n",
       "      <td>0</td>\n",
       "      <td>1</td>\n",
       "      <td>12</td>\n",
       "      <td>1</td>\n",
       "      <td>31</td>\n",
       "      <td>113.202938</td>\n",
       "      <td>7</td>\n",
       "      <td>1.910244</td>\n",
       "      <td>0</td>\n",
       "      <td>4</td>\n",
       "    </tr>\n",
       "    <tr>\n",
       "      <th>2</th>\n",
       "      <td>0</td>\n",
       "      <td>1</td>\n",
       "      <td>1</td>\n",
       "      <td>0</td>\n",
       "      <td>1</td>\n",
       "      <td>1</td>\n",
       "      <td>0</td>\n",
       "      <td>28</td>\n",
       "      <td>129.448479</td>\n",
       "      <td>2</td>\n",
       "      <td>1.736502</td>\n",
       "      <td>0</td>\n",
       "      <td>2</td>\n",
       "    </tr>\n",
       "    <tr>\n",
       "      <th>3</th>\n",
       "      <td>0</td>\n",
       "      <td>1</td>\n",
       "      <td>1</td>\n",
       "      <td>1</td>\n",
       "      <td>1</td>\n",
       "      <td>12</td>\n",
       "      <td>1</td>\n",
       "      <td>33</td>\n",
       "      <td>62.669863</td>\n",
       "      <td>2</td>\n",
       "      <td>3.357215</td>\n",
       "      <td>0</td>\n",
       "      <td>1</td>\n",
       "    </tr>\n",
       "    <tr>\n",
       "      <th>4</th>\n",
       "      <td>1</td>\n",
       "      <td>1</td>\n",
       "      <td>1</td>\n",
       "      <td>1</td>\n",
       "      <td>1</td>\n",
       "      <td>1</td>\n",
       "      <td>0</td>\n",
       "      <td>26</td>\n",
       "      <td>198.362265</td>\n",
       "      <td>3</td>\n",
       "      <td>1.120078</td>\n",
       "      <td>0</td>\n",
       "      <td>1</td>\n",
       "    </tr>\n",
       "  </tbody>\n",
       "</table>\n",
       "</div>"
      ],
      "text/plain": [
       "   gender  Near_Location  Partner  Promo_friends  Phone  Contract_period  \\\n",
       "0       1              1        1              1      0                6   \n",
       "1       0              1        0              0      1               12   \n",
       "2       0              1        1              0      1                1   \n",
       "3       0              1        1              1      1               12   \n",
       "4       1              1        1              1      1                1   \n",
       "\n",
       "   Group_visits  Age  Avg_additional_charges_total  Lifetime  \\\n",
       "0             1   29                     14.227470         3   \n",
       "1             1   31                    113.202938         7   \n",
       "2             0   28                    129.448479         2   \n",
       "3             1   33                     62.669863         2   \n",
       "4             0   26                    198.362265         3   \n",
       "\n",
       "   Avg_class_frequency_current_month  Churn  clasters  \n",
       "0                           0.000000      0         0  \n",
       "1                           1.910244      0         4  \n",
       "2                           1.736502      0         2  \n",
       "3                           3.357215      0         1  \n",
       "4                           1.120078      0         1  "
      ]
     },
     "execution_count": 88,
     "metadata": {},
     "output_type": "execute_result"
    }
   ],
   "source": [
    "data.head()"
   ]
  },
  {
   "cell_type": "code",
   "execution_count": 90,
   "metadata": {},
   "outputs": [],
   "source": [
    "col_nepr = ['Age', 'Avg_additional_charges_total', 'Avg_class_frequency_current_month', 'Lifetime']\n",
    "col_cat = ['gender', 'Near_Location', 'gender', 'Near_Location', 'Partner', 'Promo_friends', 'Phone',\n",
    "       'Contract_period', 'Group_visits']"
   ]
  },
  {
   "cell_type": "code",
   "execution_count": 91,
   "metadata": {
    "scrolled": false
   },
   "outputs": [
    {
     "data": {
      "image/png": "[encoded data removed]",
      "text/plain": [
       "<Figure size 576x360 with 1 Axes>"
      ]
     },
     "metadata": {
      "needs_background": "light"
     },
     "output_type": "display_data"
    },
    {
     "data": {
      "image/png": "[encoded data removed]",
      "text/plain": [
       "<Figure size 576x360 with 1 Axes>"
      ]
     },
     "metadata": {
      "needs_background": "light"
     },
     "output_type": "display_data"
    },
    {
     "data": {
      "image/png": "[encoded data removed]",
      "text/plain": [
       "<Figure size 576x360 with 1 Axes>"
      ]
     },
     "metadata": {
      "needs_background": "light"
     },
     "output_type": "display_data"
    },
    {
     "data": {
      "image/png": "[encoded data removed]",
      "text/plain": [
       "<Figure size 576x360 with 1 Axes>"
      ]
     },
     "metadata": {
      "needs_background": "light"
     },
     "output_type": "display_data"
    },
    {
     "data": {
      "image/png": "[encoded data removed]",
      "text/plain": [
       "<Figure size 576x360 with 1 Axes>"
      ]
     },
     "metadata": {
      "needs_background": "light"
     },
     "output_type": "display_data"
    },
    {
     "data": {
      "image/png": "[encoded data removed]",
      "text/plain": [
       "<Figure size 576x360 with 1 Axes>"
      ]
     },
     "metadata": {
      "needs_background": "light"
     },
     "output_type": "display_data"
    },
    {
     "data": {
      "image/png": "[encoded data removed]",
      "text/plain": [
       "<Figure size 576x360 with 1 Axes>"
      ]
     },
     "metadata": {
      "needs_background": "light"
     },
     "output_type": "display_data"
    },
    {
     "data": {
      "image/png": "[encoded data removed]",
      "text/plain": [
       "<Figure size 576x360 with 1 Axes>"
      ]
     },
     "metadata": {
      "needs_background": "light"
     },
     "output_type": "display_data"
    },
    {
     "data": {
      "image/png": "[encoded data removed]",
      "text/plain": [
       "<Figure size 576x360 with 1 Axes>"
      ]
     },
     "metadata": {
      "needs_background": "light"
     },
     "output_type": "display_data"
    }
   ],
   "source": [
    "\n",
    "for column in col_cat:\n",
    "    plt.figure(figsize=(8, 5))\n",
    "    sns.countplot(x = data[column], hue='clasters', data=data)\n",
    "    plt.title(column)\n",
    "    plt.grid()\n",
    "    plt.show()"
   ]
  },
  {
   "cell_type": "code",
   "execution_count": 95,
   "metadata": {
    "scrolled": false
   },
   "outputs": [
    {
     "data": {
      "image/png": "[encoded data removed]",
      "text/plain": [
       "<Figure size 576x360 with 1 Axes>"
      ]
     },
     "metadata": {
      "needs_background": "light"
     },
     "output_type": "display_data"
    },
    {
     "data": {
      "image/png": "[encoded data removed]",
      "text/plain": [
       "<Figure size 576x360 with 1 Axes>"
      ]
     },
     "metadata": {
      "needs_background": "light"
     },
     "output_type": "display_data"
    },
    {
     "data": {
      "image/png": "[encoded data removed]",
      "text/plain": [
       "<Figure size 576x360 with 1 Axes>"
      ]
     },
     "metadata": {
      "needs_background": "light"
     },
     "output_type": "display_data"
    },
    {
     "data": {
      "image/png": "[encoded data removed]",
      "text/plain": [
       "<Figure size 576x360 with 1 Axes>"
      ]
     },
     "metadata": {
      "needs_background": "light"
     },
     "output_type": "display_data"
    }
   ],
   "source": [
    "for column in col_nepr:\n",
    "    plt.figure(figsize=(8, 5))\n",
    "    sns.boxplot(x = 'clasters', y = data[column], data = data)\n",
    "    plt.title(column)\n",
    "    plt.grid()\n",
    "    plt.show()"
   ]
  },
  {
   "cell_type": "markdown",
   "metadata": {},
   "source": [
    "- По полу кластеры распределены на глаз равномерно,\n",
    "\n",
    "- По признаку живущих/работающих рядом, сразу выделяется кластер 3, туда отнесли всех кто не живет рядом\n",
    "\n",
    "- Кластер 0 характеризовался отсутствием контактных данных\n",
    "\n",
    "- По графику распределения срока абонемента, сильно выделяется кластер 2 - минимальный срок абонемента, и кластер 1 - максимальный срок\n",
    "\n",
    "- По посещению групповых занятий сказать что-либо затрудняюсь, все кластеры присутствуют в обоих вариантах, разве что крастер 2 выделяется сильнее прочих\n",
    "\n",
    "- В кластер 1 попали люди пришедшие по промо\n",
    "\n",
    "- Кластер 4  - самый высокий средний возраст, кластер 2 самые молодые\n",
    "\n",
    "- Больше всех денег на доп. услуги тратят в кластере 4, меньше всех в кластере 2\n",
    "\n",
    "- чаще всего в среднем в неделю посещают люди из кластера 4, меньше всего из кластера 2\n",
    "\n",
    "- Дольше всего фитнес-центр посещают люди из (угадайте какого кластера?, Правильно ) Кластера 4, меньше всего (сейчас будет внезапно! Нет ) ) Из кластера 2"
   ]
  },
  {
   "cell_type": "markdown",
   "metadata": {},
   "source": [
    "## Для каждого полученного кластера посчитем долю оттока. Выделим надежные и ненадежные кластеры."
   ]
  },
  {
   "cell_type": "code",
   "execution_count": 101,
   "metadata": {},
   "outputs": [
    {
     "data": {
      "text/plain": [
       "clasters\n",
       "4    0.033155\n",
       "1    0.076097\n",
       "0    0.266839\n",
       "3    0.401070\n",
       "2    0.616384\n",
       "Name: Churn, dtype: float64"
      ]
     },
     "execution_count": 101,
     "metadata": {},
     "output_type": "execute_result"
    }
   ],
   "source": [
    "data.groupby('clasters')['Churn'].mean().sort_values()"
   ]
  },
  {
   "cell_type": "code",
   "execution_count": 107,
   "metadata": {},
   "outputs": [
    {
     "data": {
      "text/html": [
       "<div>\n",
       "<style scoped>\n",
       "    .dataframe tbody tr th:only-of-type {\n",
       "        vertical-align: middle;\n",
       "    }\n",
       "\n",
       "    .dataframe tbody tr th {\n",
       "        vertical-align: top;\n",
       "    }\n",
       "\n",
       "    .dataframe thead th {\n",
       "        text-align: right;\n",
       "    }\n",
       "</style>\n",
       "<table border=\"1\" class=\"dataframe\">\n",
       "  <thead>\n",
       "    <tr style=\"text-align: right;\">\n",
       "      <th></th>\n",
       "      <th>clasters</th>\n",
       "      <th>Churn</th>\n",
       "    </tr>\n",
       "  </thead>\n",
       "  <tbody>\n",
       "    <tr>\n",
       "      <th>0</th>\n",
       "      <td>4</td>\n",
       "      <td>0.033155</td>\n",
       "    </tr>\n",
       "    <tr>\n",
       "      <th>1</th>\n",
       "      <td>1</td>\n",
       "      <td>0.076097</td>\n",
       "    </tr>\n",
       "    <tr>\n",
       "      <th>2</th>\n",
       "      <td>0</td>\n",
       "      <td>0.266839</td>\n",
       "    </tr>\n",
       "    <tr>\n",
       "      <th>3</th>\n",
       "      <td>3</td>\n",
       "      <td>0.401070</td>\n",
       "    </tr>\n",
       "    <tr>\n",
       "      <th>4</th>\n",
       "      <td>2</td>\n",
       "      <td>0.616384</td>\n",
       "    </tr>\n",
       "  </tbody>\n",
       "</table>\n",
       "</div>"
      ],
      "text/plain": [
       "   clasters     Churn\n",
       "0         4  0.033155\n",
       "1         1  0.076097\n",
       "2         0  0.266839\n",
       "3         3  0.401070\n",
       "4         2  0.616384"
      ]
     },
     "execution_count": 107,
     "metadata": {},
     "output_type": "execute_result"
    }
   ],
   "source": [
    "draw = data.groupby('clasters')['Churn'].mean().sort_values().reset_index()\n",
    "draw"
   ]
  },
  {
   "cell_type": "code",
   "execution_count": null,
   "metadata": {},
   "outputs": [],
   "source": []
  },
  {
   "cell_type": "code",
   "execution_count": 114,
   "metadata": {},
   "outputs": [
    {
     "data": {
      "image/png": "[encoded data removed]",
      "text/plain": [
       "<Figure size 864x432 with 1 Axes>"
      ]
     },
     "metadata": {
      "needs_background": "light"
     },
     "output_type": "display_data"
    }
   ],
   "source": [
    "plt.figure(figsize=(12,6))\n",
    "sns.barplot(x=draw['clasters'], y=draw['Churn'])\n",
    "plt.grid()\n",
    "plt.title('Кластеры в разбивке на среднее знаение оттока')\n",
    "plt.xlabel('Кластер')\n",
    "plt.ylabel('Среднее значение оттока');"
   ]
  },
  {
   "cell_type": "markdown",
   "metadata": {},
   "source": [
    "Выводы напрашивались уже после первого этапа, график это подтверждает:\n",
    "- Самый надежный кластер № 4, № 1\n",
    "- Самый ненадежный кластер № 2, № 3\n",
    "- Кластер № 0 - \"ни рыба не мясо\". Думаю что надо стараться переводить этих клиентов в кластера 1 или 4"
   ]
  },
  {
   "cell_type": "markdown",
   "metadata": {},
   "source": [
    "# Общий вывод по исследованию"
   ]
  },
  {
   "cell_type": "markdown",
   "metadata": {},
   "source": [
    "Передо мной стояла задача привести исследования оттока клиентов из фитнес центра. Для реализации данной задачи, мне был предоставлен датасет о клиентах компании, с указанием их возраста, вида абонемента, среднего посещения, среднего количества денежных трат и так далее, так же в данном датасете была произведена разметка, ушел клиент в итоге или остался. В ходе выполнения исследования, удалось обучить модель, которая будет предсказывать шанс на отток клиента, а так же кластеризовать клиентов по различным параметрам.  Основные выводы, полученные в ходе исследования, представлены ниже.\n",
    "\n",
    "На первом этапе исследования мной было выявлено \"лицо\" типичного посетителя данного фитнес центра, а именно:\n",
    "\n",
    "- На 1% вероятней что это мужчина, чем женщина, мужчин ходит самую малость больше\n",
    "\n",
    "- Скорее всего проживает либо работает в этом же районе\n",
    "\n",
    "- Скорее всего что он не пришел по промо от друга\n",
    "\n",
    "- С большой долей вероятности оставил свой контактный номер\n",
    "\n",
    "- Типичный абонемент - 6 месяцев\n",
    "\n",
    "- Скорее не посещает, чем посещает групповые занятия, однако доля тех кто посещает - 40%.\n",
    "\n",
    "- Возраст около 29 лет +- 3 года\n",
    "\n",
    "- В среднем на доп услуги тратит порядка 147 уе.\n",
    "\n",
    "- Осталось посещать фитнес зал еще 4 с небольшим месяцев\n",
    "\n",
    "- Посещает уже чуть больше 3,5 месяцев\n",
    "\n",
    "- Ходит на фитнес около 2 раз в неделю в среднем\n",
    "\n",
    "- И почти столько же за последний месяц\n",
    "\n",
    "- Скорее останется, чем уйдет\n",
    "\n",
    "\n",
    "\n",
    "Так же удалось нарисовать картину клиента, который ушел:\n",
    "\n",
    "- Пришел не по приглашению\n",
    "\n",
    "- Взял минимальный абонемент , и соответственно имеет гораздо меньшее среднее время до конца контракта\n",
    "\n",
    "- В основном не посещает групповые занятия\n",
    "\n",
    "- Тратит меньше денег на доп. услуги\n",
    "\n",
    "- За последний месяц, посещал фитнесс центр в среднем всего 1 раз за неделю\n",
    "\n",
    "\n",
    "\n",
    "Удалось установить, что уходят в основном те кто:\n",
    "\n",
    "- Больше уходят те, кто живет или работает не рядом с фитнес центром, возможно они находят себе другой зал, поближе.\n",
    "\n",
    "- Те, кто являются клиентами от компании партнера, так же меньше подвержены оттоку.\n",
    "\n",
    "-  Чем меньше срок абонемента - тем выше шанс оттока\n",
    "\n",
    "- У тех кто не посещает групповые занятия, так же шанс того что они покинут заведение повышен\n",
    "\n",
    "- Так же сильно увеличивается шанс оттока, если до конца абонемента остался месяц или меньше.\n",
    "\n",
    "- Те кто ушел, в среднем тратят процентов на 50 меньше, чем те кто остался\n",
    "\n",
    "- И ходят около 1 раза в неделю в последний наблюдаемый месяц, мне кажется что этот  признак прям звоночек, что надо бы принимать меры\n",
    "\n",
    "- Возраст тоже играет  роль, более молодые клиенты видимо менее консервативные, возможно они чаще меняют заведения\n",
    "\n",
    "\n",
    "\n",
    "Построив график корреляции, удалось выяснить что,  с оттоком больше всего коррелируют следующие параметры:\n",
    "\n",
    "- Срок абонемента\n",
    "\n",
    "- Возраст\n",
    "\n",
    "- Срок до окончания абонемента\n",
    "\n",
    "- Общее время посещения\n",
    "\n",
    "- Среднее количество посещений в последний месяц.\n",
    "\n",
    "Все корреляции имеют обратный характер, чем меньше параметр, тем выше шанс оттока\n",
    "\n",
    "\n",
    "\n",
    "Далее мной была подготовлена и обучена модель, которая в дальнейшем поможет предсказать клиентов, которые в бедующем собираются покинуть заведение. В качестве примера я привел размеченный датасет с шансом на отток. Могу рекомендовать обратить внимание менеджеров на клиентов, чей шанс на отток выше чем 60%, хотя тут на усмотрения управляющих.\n",
    "\n",
    "\n",
    "\n",
    "Так же мной была произведена кластеризация клиентов. Удалось выделить 4 кластера клиентов. Характеристики класетров представлены ниже:\n",
    "\n",
    "Из того что сразу же бросается в глаза:\n",
    "\n",
    "- Кластер 0 - те кто не оставил контактные данные  \n",
    "\n",
    "- Кластер 1 - это 100% клиенты от партнерских компаний и пришедшие по промо \"приведи друга\", обладают самым высоким средним сроком абонемента\n",
    "\n",
    "- Кластер 2 - обладают самым маленьким сроком абонемента и меньше всех в среднем тратят деньги на доп. услуги\n",
    "\n",
    "- Кластер 3 - Те, кто не живут или работают в районе фитнес центра\n",
    "\n",
    "- Кластер 4 - Самый высокий средний возраст, тратят больше всех денег на доп. услуги в среднем, имеют самый продолжительный лайфтайм\n",
    "\n",
    "Из \"Надежных\" кластеров можно выделить Кластер 4 - самый надежный, реже всех оттекают, за ним идет кластер 1.\n",
    "\n",
    "Самый ненадежный - Кластер 2, за ним следует Кластер 3.\n",
    "\n",
    "Кластер 0 так же имеет хорошие показатели \"надежности\" лишь 26% из них ушли.\n",
    "\n",
    "\n",
    "\n",
    "- По полу кластеры распределены более менее равномерно,\n",
    "\n",
    "- По признаку живущих/работающих рядом, сразу выделяется кластер 3, туда отнесли всех кто не живет рядом\n",
    "\n",
    "- Кластер 0 характеризовался отсутствием контактных данных\n",
    "\n",
    "- По графику распределения срока абонемента, сильно выделяется кластер 2 - минимальный срок абонемента, и кластер 1 - максимальный срок\n",
    "\n",
    "- По посещению групповых занятий сказать что-либо затрудняюсь, все кластеры присутствуют в обоих вариантах, разве что крастер 2 выделяется сильнее прочих\n",
    "\n",
    "- В кластер 1 попали люди пришедшие по промо\n",
    "\n",
    "- Кластер 4  - самый высокий средний возраст, кластер 2 самые молодые\n",
    "\n",
    "- Больше всех денег на доп. услуги тратят в кластере 4, меньше всех в кластере 2\n",
    "\n",
    "- чаще всего в среднем в неделю посещают люди из кластера 4, меньше всего из кластера 2\n",
    "\n",
    "- Дольше всего фитнес-центр посещают люди из  Кластера 4, меньше всего из кластера 2\n",
    "\n",
    "\n",
    "\n",
    "Проанализировав уровень \"надежности\" кластеров по среднему количеству оттока, удалось выяснить следующее:\n",
    "\n",
    "- Самый надежный кластер № 4, № 1\n",
    "\n",
    "- Самый ненадежный кластер № 2, № 3\n",
    "\n",
    "- Кластер № 0 - \"ни рыба не мясо\". Думаю что надо стараться переводить этих клиентов в кластера 1 или 4\n",
    "\n",
    "\n",
    "**В качестве меры удержания могу предложить следующее:**\n",
    "- Опрос клиентов с целью выявления предпочтений, как удалось установить, одним из факторов удержания являются групповые программы, возможно некоторые клиенты не находят то что ищут, либо им не подходит время проведения групповых мероприятий\n",
    "- Так же данный опрос может выявить потребности в дополнительных платных услугах, ведь те кто тратит больше денег на доп услуги, меньше подвержены оттоку.\n",
    "- Возможно стоить предоставить скидку на более длительные абонементы, как способ дополнительного удержания\n",
    "- В качестве дополнительных мер по удержанию, предлагаю осуществлять прозвон с целью уточнения причин редкого посещения, возможно в ходе разговора можно выявить дополнительные потребности или причину недовольства.\n",
    "- Ну и классические  скидки, соревнавания, розыгрыши и дополнительные мотивационные программы, возможно так же повысят лояльность клиента к компании.\n",
    "\n",
    "\n"
   ]
  }
 ],
 "metadata": {
  "kernelspec": {
   "display_name": "Python 3",
   "language": "python",
   "name": "python3"
  },
  "language_info": {
   "codemirror_mode": {
    "name": "ipython",
    "version": 3
   },
   "file_extension": ".py",
   "mimetype": "text/x-python",
   "name": "python",
   "nbconvert_exporter": "python",
   "pygments_lexer": "ipython3",
   "version": "3.8.5"
  },
  "toc": {
   "base_numbering": 1,
   "nav_menu": {},
   "number_sections": true,
   "sideBar": true,
   "skip_h1_title": false,
   "title_cell": "Table of Contents",
   "title_sidebar": "Contents",
   "toc_cell": true,
   "toc_position": {
    "height": "calc(100% - 180px)",
    "left": "10px",
    "top": "150px",
    "width": "303.531px"
   },
   "toc_section_display": true,
   "toc_window_display": true
  }
 },
 "nbformat": 4,
 "nbformat_minor": 4
}
